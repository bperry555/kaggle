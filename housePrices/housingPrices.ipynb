{
 "cells": [
  {
   "cell_type": "markdown",
   "metadata": {},
   "source": [
    "# House Prices: Advanced Regression Techniques\n",
    "Competition Description\n",
    "\n",
    "\n",
    "Ask a home buyer to describe their dream house, and they probably won't begin with the height of the basement ceiling or the proximity to an east-west railroad. But this playground competition's dataset proves that much more influences price negotiations than the number of bedrooms or a white-picket fence.\n",
    "\n",
    "With 79 explanatory variables describing (almost) every aspect of residential homes in Ames, Iowa, this competition challenges you to predict the final price of each home.\n",
    "\n",
    "Practice Skills\n",
    "Creative feature engineering \n",
    "Advanced regression techniques like random forest and gradient boosting\n",
    "Acknowledgments\n",
    "The Ames Housing dataset was compiled by Dean De Cock for use in data science education. It's an incredible alternative for data scientists looking for a modernized and expanded version of the often cited Boston Housing dataset.\n",
    "\n",
    "_Source: [Kaggle](https://www.kaggle.com/c/house-prices-advanced-regression-techniques/overview)_"
   ]
  },
  {
   "cell_type": "markdown",
   "metadata": {},
   "source": [
    "## Table of Contents <a name='table'></a>\n",
    "- [Load Data](#Load-Data)\n",
    "- [Find 'Na' Values](#na)\n",
    "  - [Explore 'Na' Values](#cleanNa)\n",
    "  - [Fill 'Na' Values](#fillNa)\n",
    "- [Explore Target Variable (SalePrice)](#target)\n",
    "- [Explore Continuous Values](#continuous)"
   ]
  },
  {
   "cell_type": "markdown",
   "metadata": {},
   "source": [
    "***"
   ]
  },
  {
   "cell_type": "code",
   "execution_count": 1,
   "metadata": {},
   "outputs": [],
   "source": [
    "import pandas as pd\n",
    "import numpy as np\n",
    "from scipy.stats import norm\n",
    "from scipy import stats as st\n",
    "\n",
    "import matplotlib.pyplot as plt\n",
    "import seaborn as sns\n",
    "%matplotlib inline"
   ]
  },
  {
   "cell_type": "markdown",
   "metadata": {},
   "source": [
    "## Load Data <a name='Load-Data'></a>\n",
    "[Table of Cotents](#table)"
   ]
  },
  {
   "cell_type": "code",
   "execution_count": 2,
   "metadata": {},
   "outputs": [],
   "source": [
    "train_data = pd.read_csv('train.csv')\n",
    "test_data = pd.read_csv('test.csv')"
   ]
  },
  {
   "cell_type": "code",
   "execution_count": 4,
   "metadata": {},
   "outputs": [
    {
     "name": "stdout",
     "output_type": "stream",
     "text": [
      "<class 'pandas.core.frame.DataFrame'>\n",
      "RangeIndex: 1460 entries, 0 to 1459\n",
      "Data columns (total 81 columns):\n",
      " #   Column         Non-Null Count  Dtype  \n",
      "---  ------         --------------  -----  \n",
      " 0   Id             1460 non-null   int64  \n",
      " 1   MSSubClass     1460 non-null   int64  \n",
      " 2   MSZoning       1460 non-null   object \n",
      " 3   LotFrontage    1201 non-null   float64\n",
      " 4   LotArea        1460 non-null   int64  \n",
      " 5   Street         1460 non-null   object \n",
      " 6   Alley          91 non-null     object \n",
      " 7   LotShape       1460 non-null   object \n",
      " 8   LandContour    1460 non-null   object \n",
      " 9   Utilities      1460 non-null   object \n",
      " 10  LotConfig      1460 non-null   object \n",
      " 11  LandSlope      1460 non-null   object \n",
      " 12  Neighborhood   1460 non-null   object \n",
      " 13  Condition1     1460 non-null   object \n",
      " 14  Condition2     1460 non-null   object \n",
      " 15  BldgType       1460 non-null   object \n",
      " 16  HouseStyle     1460 non-null   object \n",
      " 17  OverallQual    1460 non-null   int64  \n",
      " 18  OverallCond    1460 non-null   int64  \n",
      " 19  YearBuilt      1460 non-null   int64  \n",
      " 20  YearRemodAdd   1460 non-null   int64  \n",
      " 21  RoofStyle      1460 non-null   object \n",
      " 22  RoofMatl       1460 non-null   object \n",
      " 23  Exterior1st    1460 non-null   object \n",
      " 24  Exterior2nd    1460 non-null   object \n",
      " 25  MasVnrType     1452 non-null   object \n",
      " 26  MasVnrArea     1452 non-null   float64\n",
      " 27  ExterQual      1460 non-null   object \n",
      " 28  ExterCond      1460 non-null   object \n",
      " 29  Foundation     1460 non-null   object \n",
      " 30  BsmtQual       1423 non-null   object \n",
      " 31  BsmtCond       1423 non-null   object \n",
      " 32  BsmtExposure   1422 non-null   object \n",
      " 33  BsmtFinType1   1423 non-null   object \n",
      " 34  BsmtFinSF1     1460 non-null   int64  \n",
      " 35  BsmtFinType2   1422 non-null   object \n",
      " 36  BsmtFinSF2     1460 non-null   int64  \n",
      " 37  BsmtUnfSF      1460 non-null   int64  \n",
      " 38  TotalBsmtSF    1460 non-null   int64  \n",
      " 39  Heating        1460 non-null   object \n",
      " 40  HeatingQC      1460 non-null   object \n",
      " 41  CentralAir     1460 non-null   object \n",
      " 42  Electrical     1459 non-null   object \n",
      " 43  1stFlrSF       1460 non-null   int64  \n",
      " 44  2ndFlrSF       1460 non-null   int64  \n",
      " 45  LowQualFinSF   1460 non-null   int64  \n",
      " 46  GrLivArea      1460 non-null   int64  \n",
      " 47  BsmtFullBath   1460 non-null   int64  \n",
      " 48  BsmtHalfBath   1460 non-null   int64  \n",
      " 49  FullBath       1460 non-null   int64  \n",
      " 50  HalfBath       1460 non-null   int64  \n",
      " 51  BedroomAbvGr   1460 non-null   int64  \n",
      " 52  KitchenAbvGr   1460 non-null   int64  \n",
      " 53  KitchenQual    1460 non-null   object \n",
      " 54  TotRmsAbvGrd   1460 non-null   int64  \n",
      " 55  Functional     1460 non-null   object \n",
      " 56  Fireplaces     1460 non-null   int64  \n",
      " 57  FireplaceQu    770 non-null    object \n",
      " 58  GarageType     1379 non-null   object \n",
      " 59  GarageYrBlt    1379 non-null   float64\n",
      " 60  GarageFinish   1379 non-null   object \n",
      " 61  GarageCars     1460 non-null   int64  \n",
      " 62  GarageArea     1460 non-null   int64  \n",
      " 63  GarageQual     1379 non-null   object \n",
      " 64  GarageCond     1379 non-null   object \n",
      " 65  PavedDrive     1460 non-null   object \n",
      " 66  WoodDeckSF     1460 non-null   int64  \n",
      " 67  OpenPorchSF    1460 non-null   int64  \n",
      " 68  EnclosedPorch  1460 non-null   int64  \n",
      " 69  3SsnPorch      1460 non-null   int64  \n",
      " 70  ScreenPorch    1460 non-null   int64  \n",
      " 71  PoolArea       1460 non-null   int64  \n",
      " 72  PoolQC         7 non-null      object \n",
      " 73  Fence          281 non-null    object \n",
      " 74  MiscFeature    54 non-null     object \n",
      " 75  MiscVal        1460 non-null   int64  \n",
      " 76  MoSold         1460 non-null   int64  \n",
      " 77  YrSold         1460 non-null   int64  \n",
      " 78  SaleType       1460 non-null   object \n",
      " 79  SaleCondition  1460 non-null   object \n",
      " 80  SalePrice      1460 non-null   int64  \n",
      "dtypes: float64(3), int64(35), object(43)\n",
      "memory usage: 924.0+ KB\n"
     ]
    }
   ],
   "source": [
    "train_data.info()"
   ]
  },
  {
   "cell_type": "code",
   "execution_count": 265,
   "metadata": {},
   "outputs": [],
   "source": [
    "X_train = train_data.copy()\n",
    "X_test = test_data.copy()"
   ]
  },
  {
   "cell_type": "code",
   "execution_count": 266,
   "metadata": {},
   "outputs": [
    {
     "name": "stdout",
     "output_type": "stream",
     "text": [
      "(1460, 81)\n",
      "(1459, 80)\n"
     ]
    }
   ],
   "source": [
    "print(X_train.shape)\n",
    "print(X_test.shape)"
   ]
  },
  {
   "cell_type": "code",
   "execution_count": 267,
   "metadata": {},
   "outputs": [],
   "source": [
    "def tidy(df):\n",
    "    if ('Id' in df.columns):\n",
    "        df.drop(columns='Id', axis=1, inplace=True)\n",
    "    if ('SalePrice' in df.columns):\n",
    "        y_value = df['SalePrice']\n",
    "        df.drop(columns='SalePrice', axis=1, inplace=True)\n",
    "        return pd.Series(y_value, name='SalePrice')\n",
    "    else:\n",
    "        return "
   ]
  },
  {
   "cell_type": "code",
   "execution_count": 268,
   "metadata": {},
   "outputs": [],
   "source": [
    "y_train = tidy(X_train)"
   ]
  },
  {
   "cell_type": "code",
   "execution_count": 269,
   "metadata": {},
   "outputs": [],
   "source": [
    "tidy(X_test)"
   ]
  },
  {
   "cell_type": "code",
   "execution_count": 270,
   "metadata": {},
   "outputs": [
    {
     "name": "stdout",
     "output_type": "stream",
     "text": [
      "(1460, 79)\n",
      "(1459, 79)\n"
     ]
    }
   ],
   "source": [
    "print(X_train.shape)\n",
    "print(X_test.shape)"
   ]
  },
  {
   "cell_type": "markdown",
   "metadata": {},
   "source": [
    "## Find and Analyse 'NA' Values <a name ='findNa'></a>\n",
    "[Table of Contents](#table)"
   ]
  },
  {
   "cell_type": "code",
   "execution_count": 271,
   "metadata": {},
   "outputs": [
    {
     "data": {
      "text/plain": [
       "(2919, 79)"
      ]
     },
     "execution_count": 271,
     "metadata": {},
     "output_type": "execute_result"
    }
   ],
   "source": [
    "X_combo = pd.concat([X_train,X_test],axis=0,join='outer')\n",
    "X_combo.shape"
   ]
  },
  {
   "cell_type": "code",
   "execution_count": 278,
   "metadata": {},
   "outputs": [],
   "source": [
    "def find_na(df):\n",
    "    na_find = df.isna().any()\n",
    "    na_values = df.loc[:,na_find]\n",
    "    na_col = na_values.columns.tolist()\n",
    "    heatmap = sns.heatmap(X_train.isna(),cmap='binary', cbar=False, yticklabels='none')\n",
    "    return heatmap"
   ]
  },
  {
   "cell_type": "code",
   "execution_count": 279,
   "metadata": {
    "scrolled": true
   },
   "outputs": [
    {
     "data": {
      "text/plain": [
       "<AxesSubplot:>"
      ]
     },
     "execution_count": 279,
     "metadata": {},
     "output_type": "execute_result"
    },
    {
     "data": {
      "image/png": "[encoded data removed]",
      "text/plain": [
       "<Figure size 432x288 with 1 Axes>"
      ]
     },
     "metadata": {
      "needs_background": "light"
     },
     "output_type": "display_data"
    }
   ],
   "source": [
    "find_na(X_train)"
   ]
  },
  {
   "cell_type": "code",
   "execution_count": 280,
   "metadata": {},
   "outputs": [
    {
     "data": {
      "text/plain": [
       "<AxesSubplot:>"
      ]
     },
     "execution_count": 280,
     "metadata": {},
     "output_type": "execute_result"
    },
    {
     "data": {
      "image/png": "[encoded data removed]",
      "text/plain": [
       "<Figure size 432x288 with 1 Axes>"
      ]
     },
     "metadata": {
      "needs_background": "light"
     },
     "output_type": "display_data"
    }
   ],
   "source": [
    "find_na(X_test)"
   ]
  },
  {
   "cell_type": "code",
   "execution_count": 281,
   "metadata": {},
   "outputs": [
    {
     "name": "stdout",
     "output_type": "stream",
     "text": [
      "PoolQC          1453\n",
      "MiscFeature     1406\n",
      "Alley           1369\n",
      "Fence           1179\n",
      "FireplaceQu      690\n",
      "LotFrontage      259\n",
      "GarageCond        81\n",
      "GarageType        81\n",
      "GarageYrBlt       81\n",
      "GarageFinish      81\n",
      "GarageQual        81\n",
      "BsmtExposure      38\n",
      "BsmtFinType2      38\n",
      "BsmtFinType1      37\n",
      "BsmtCond          37\n",
      "BsmtQual          37\n",
      "MasVnrArea         8\n",
      "MasVnrType         8\n",
      "Electrical         1\n",
      "dtype: int64\n",
      "Columns with NaN values: 19\n"
     ]
    }
   ],
   "source": [
    "na_sum = X_train.isna().sum().sort_values(ascending=False)\n",
    "print(na_sum.loc[na_sum >= 1])\n",
    "print(f'Columns with NaN values: {na_sum.loc[na_sum >= 1].count()}')"
   ]
  },
  {
   "cell_type": "markdown",
   "metadata": {},
   "source": [
    "### Clean 'Na' Values <a name='cleanNa'></a>\n",
    "[Table of Contents](#table)\n",
    "\n",
    "Comparing our missing values to our data dictionary many of these 'na' values are a descriptive feature of a dwelling that does not have said feature. 'PoolQC' houses without a pool don't have a 'Pool Quality' rating.\n",
    "\n",
    "We will fill these 'na' values with 'dna' for does not apply since this is a feature in it of itself.\n",
    "\n",
    "Column Name| 'Na' Description\n",
    "-----------|---------------\n",
    "MiscFeature | None\n",
    "PoolQC | No Pool\n",
    "Alley | No alley access\n",
    "Fence | No Fence\n",
    "Fireplace | No Fireplace\n",
    "FireplaceQu | No Fireplace\n",
    "GarageQual | No Garage\n",
    "GarageYrBlt | No Garage\n",
    "GarageFinish | No Garage\n",
    "GarageCond | No Garage\n",
    "GarageType | No Garage    \n",
    "BsmtExposure | No Basement\n",
    "BsmtCond | No Basement\n",
    "BsmtQual | No Basement\n",
    "BsmtFinType2 | No Basement\n",
    "BsmtFinType1 | No Basement\n",
    "MasVnrType | None\n",
    "MasVnrArea | None\n",
    "BsmtFullBath | None\n",
    "BsmtHalfBath | None\n",
    "GarageArea | No Garage\n",
    "\n",
    "LotLotFrontage is a measurement.  We will fill this with '0'.\n",
    "All other NA"
   ]
  },
  {
   "cell_type": "code",
   "execution_count": 282,
   "metadata": {},
   "outputs": [],
   "source": [
    "dna = ['PoolQC','Alley','Fence','Fireplaces','FireplaceQu',\\\n",
    "       'GarageQual','GarageYrBlt','GarageFinish','GarageCond','GarageType',\\\n",
    "       'BsmtExposure','BsmtCond','BsmtQual','BsmtFinType2','BsmtFinType1',\\\n",
    "       'MasVnrType','MasVnrArea','BsmtFullBath','BsmtHalfBath','GarageArea',\\\n",
    "       'MiscFeature']"
   ]
  },
  {
   "cell_type": "code",
   "execution_count": 283,
   "metadata": {},
   "outputs": [],
   "source": [
    "def impute(df, features):\n",
    "    dna_imputer = SimpleImputer(fill_value='dna',strategy='constant')\n",
    "    imputed_out = dna_imputer.fit_transform(df[features])\n",
    "    df.loc[:,features] = imputed_out\n",
    "    df['LotFrontage'].fillna(value=0,inplace=True)\n",
    "    print(df.isna().sum().sort_values(ascending=False))"
   ]
  },
  {
   "cell_type": "code",
   "execution_count": 284,
   "metadata": {},
   "outputs": [
    {
     "name": "stdout",
     "output_type": "stream",
     "text": [
      "Electrical       1\n",
      "SaleCondition    0\n",
      "Foundation       0\n",
      "RoofMatl         0\n",
      "Exterior1st      0\n",
      "                ..\n",
      "TotRmsAbvGrd     0\n",
      "Functional       0\n",
      "Fireplaces       0\n",
      "FireplaceQu      0\n",
      "MSSubClass       0\n",
      "Length: 79, dtype: int64\n"
     ]
    }
   ],
   "source": [
    "impute(X_train, dna)"
   ]
  },
  {
   "cell_type": "code",
   "execution_count": 285,
   "metadata": {},
   "outputs": [
    {
     "name": "stdout",
     "output_type": "stream",
     "text": [
      "MSZoning        4\n",
      "Functional      2\n",
      "Utilities       2\n",
      "BsmtUnfSF       1\n",
      "Exterior1st     1\n",
      "               ..\n",
      "KitchenAbvGr    0\n",
      "TotRmsAbvGrd    0\n",
      "Fireplaces      0\n",
      "FireplaceQu     0\n",
      "MSSubClass      0\n",
      "Length: 79, dtype: int64\n"
     ]
    }
   ],
   "source": [
    "impute(X_test, dna)"
   ]
  },
  {
   "cell_type": "markdown",
   "metadata": {},
   "source": [
    "Minimal 'Na' values after imputation.  Dropping remaining rows with 'Na' values."
   ]
  },
  {
   "cell_type": "code",
   "execution_count": 286,
   "metadata": {},
   "outputs": [],
   "source": [
    "X_test.dropna(inplace=True)\n",
    "X_train.dropna(inplace=True)"
   ]
  },
  {
   "cell_type": "code",
   "execution_count": 287,
   "metadata": {},
   "outputs": [
    {
     "data": {
      "text/plain": [
       "False"
      ]
     },
     "execution_count": 287,
     "metadata": {},
     "output_type": "execute_result"
    }
   ],
   "source": [
    "(X_train.isna().any or X_test.isna().any) == True"
   ]
  },
  {
   "cell_type": "markdown",
   "metadata": {},
   "source": [
    "---"
   ]
  },
  {
   "cell_type": "markdown",
   "metadata": {},
   "source": [
    "## Continuous Features <a name='continuous'></a>\n",
    "[Table of Contents](#table)"
   ]
  },
  {
   "cell_type": "code",
   "execution_count": 291,
   "metadata": {},
   "outputs": [],
   "source": [
    "cont_values = X_train.select_dtypes(include='number').columns.tolist()"
   ]
  },
  {
   "cell_type": "code",
   "execution_count": 365,
   "metadata": {},
   "outputs": [],
   "source": [
    "join_corr = X_train[cont_values].join(y_train,how='outer')\n",
    "corr = join_corr.corr(method='spearman')"
   ]
  },
  {
   "cell_type": "code",
   "execution_count": 372,
   "metadata": {},
   "outputs": [
    {
     "data": {
      "text/plain": [
       "<AxesSubplot:>"
      ]
     },
     "execution_count": 372,
     "metadata": {},
     "output_type": "execute_result"
    },
    {
     "data": {
      "image/png": "[encoded data removed]",
      "text/plain": [
       "<Figure size 1152x864 with 2 Axes>"
      ]
     },
     "metadata": {
      "needs_background": "light"
     },
     "output_type": "display_data"
    }
   ],
   "source": [
    "plt.figure(figsize=(16,12))\n",
    "sns.heatmap(corr, cmap='coolwarm')"
   ]
  },
  {
   "cell_type": "code",
   "execution_count": 389,
   "metadata": {},
   "outputs": [],
   "source": [
    "test = X_train.loc[:,cont_values].corrwith(y_train).sort_values(ascending=False)"
   ]
  },
  {
   "cell_type": "code",
   "execution_count": 390,
   "metadata": {},
   "outputs": [
    {
     "data": {
      "text/plain": [
       "<AxesSubplot:>"
      ]
     },
     "execution_count": 390,
     "metadata": {},
     "output_type": "execute_result"
    },
    {
     "data": {
      "image/png": "[encoded data removed]",
      "text/plain": [
       "<Figure size 288x734.4 with 1 Axes>"
      ]
     },
     "metadata": {
      "needs_background": "light"
     },
     "output_type": "display_data"
    }
   ],
   "source": [
    "plt.figure(figsize=(4, len(cont_values) * .30))\n",
    "plt.gca(facecolor='silver')\n",
    "sns.barplot(x=test,y=test.index, orient='h', palette='RdBu')"
   ]
  },
  {
   "cell_type": "code",
   "execution_count": null,
   "metadata": {},
   "outputs": [],
   "source": []
  },
  {
   "cell_type": "code",
   "execution_count": 65,
   "metadata": {},
   "outputs": [],
   "source": [
    "na_mean =[]\n",
    "na_median =[]\n",
    "na_mode =[]\n",
    "na_dna =[]\n",
    "   \n",
    "\n",
    "def na_sort(column, sort):\n",
    "    if column not in na_col:\n",
    "        return \"Column doesn't contain 'Na' values.\"\n",
    "        \n",
    "    elif sort == 'mean':\n",
    "        na_mean.append(column)\n",
    "    elif sort == 'median':\n",
    "        na_median.append(column)\n",
    "    elif sort == 'mode':\n",
    "        na_mode.append(column)\n",
    "    elif sort == 'dna':\n",
    "        na_dna.append(column)\n",
    "    else:\n",
    "        return 'Unkown sort value'\n",
    "    \n",
    "    na_col.remove(column)\n",
    "    \n",
    "    print(na_col)\n",
    "    print(f'Remaining columns w/ \"NA\" values {len(na_col)}')\n",
    "    \n",
    "    return"
   ]
  },
  {
   "cell_type": "code",
   "execution_count": 14,
   "metadata": {},
   "outputs": [],
   "source": [
    "def scribe_stats(column, df=X_train):\n",
    "    if df[column].dtype == 'O':\n",
    "        df[column].value_counts(normalize=True).plot(kind='bar')\n",
    "        \n",
    "        print(df[column].describe())\n",
    "        print(f'\"Na\" value count: {df[column].isna().sum()}')\n",
    "        print(f'\"Na\" % missing: {df[column].isna().sum() / len(df[column])}')\n",
    "\n",
    "    else:\n",
    "        plt.subplots(1,2, figsize=(12,4))\n",
    "        \n",
    "        plt.subplot(1,2,1)\n",
    "        df[column].hist()\n",
    "        \n",
    "        plt.subplot(1,2,2)\n",
    "        df[column].plot(kind='box')\n",
    "        \n",
    "        print(f'Median: {df[column].median()},\\nMode: {df[column].mode()}, \\\n",
    "        \\nSkew: {df[column].skew()}, \\nKurtosis: {df[column].kurtosis()}, \\\n",
    "        \\n{df[column].describe()} \\n\"Na\" value count: {df[column].isna().sum()} ')\n",
    "    return"
   ]
  },
  {
   "cell_type": "code",
   "execution_count": 15,
   "metadata": {},
   "outputs": [
    {
     "data": {
      "text/plain": [
       "['LotFrontage',\n",
       " 'Alley',\n",
       " 'MasVnrType',\n",
       " 'MasVnrArea',\n",
       " 'BsmtQual',\n",
       " 'BsmtCond',\n",
       " 'BsmtExposure',\n",
       " 'BsmtFinType1',\n",
       " 'BsmtFinType2',\n",
       " 'Electrical',\n",
       " 'FireplaceQu',\n",
       " 'GarageType',\n",
       " 'GarageYrBlt',\n",
       " 'GarageFinish',\n",
       " 'GarageQual',\n",
       " 'GarageCond',\n",
       " 'PoolQC',\n",
       " 'Fence',\n",
       " 'MiscFeature']"
      ]
     },
     "execution_count": 15,
     "metadata": {},
     "output_type": "execute_result"
    }
   ],
   "source": [
    "na_col"
   ]
  },
  {
   "cell_type": "code",
   "execution_count": 16,
   "metadata": {},
   "outputs": [
    {
     "name": "stdout",
     "output_type": "stream",
     "text": [
      "Median: 69.0,\n",
      "Mode: 0    60.0\n",
      "dtype: float64,         \n",
      "Skew: 2.163569142324884, \n",
      "Kurtosis: 17.452867259818404,         \n",
      "count    1201.000000\n",
      "mean       70.049958\n",
      "std        24.284752\n",
      "min        21.000000\n",
      "25%        59.000000\n",
      "50%        69.000000\n",
      "75%        80.000000\n",
      "max       313.000000\n",
      "Name: LotFrontage, dtype: float64 \n",
      "\"Na\" value count: 259 \n"
     ]
    },
    {
     "data": {
      "image/png": "[encoded data removed]",
      "text/plain": [
       "<Figure size 864x288 with 2 Axes>"
      ]
     },
     "metadata": {
      "needs_background": "light"
     },
     "output_type": "display_data"
    }
   ],
   "source": [
    "scribe_stats('LotFrontage')"
   ]
  },
  {
   "cell_type": "code",
   "execution_count": 17,
   "metadata": {},
   "outputs": [
    {
     "name": "stdout",
     "output_type": "stream",
     "text": [
      "['Alley', 'MasVnrType', 'MasVnrArea', 'BsmtQual', 'BsmtCond', 'BsmtExposure', 'BsmtFinType1', 'BsmtFinType2', 'Electrical', 'FireplaceQu', 'GarageType', 'GarageYrBlt', 'GarageFinish', 'GarageQual', 'GarageCond', 'PoolQC', 'Fence', 'MiscFeature']\n",
      "Remaining columns w/ \"NA\" values 18\n"
     ]
    }
   ],
   "source": [
    "na_sort('LotFrontage','mean')"
   ]
  },
  {
   "cell_type": "code",
   "execution_count": 18,
   "metadata": {},
   "outputs": [
    {
     "name": "stdout",
     "output_type": "stream",
     "text": [
      "count     1452\n",
      "unique       4\n",
      "top       None\n",
      "freq       864\n",
      "Name: MasVnrType, dtype: object\n",
      "\"Na\" value count: 8\n",
      "\"Na\" % missing: 0.005479452054794521\n"
     ]
    },
    {
     "data": {
      "image/png": "[encoded data removed]",
      "text/plain": [
       "<Figure size 432x288 with 1 Axes>"
      ]
     },
     "metadata": {
      "needs_background": "light"
     },
     "output_type": "display_data"
    }
   ],
   "source": [
    "scribe_stats('MasVnrType')"
   ]
  },
  {
   "cell_type": "code",
   "execution_count": 19,
   "metadata": {},
   "outputs": [
    {
     "name": "stdout",
     "output_type": "stream",
     "text": [
      "['Alley', 'MasVnrArea', 'BsmtQual', 'BsmtCond', 'BsmtExposure', 'BsmtFinType1', 'BsmtFinType2', 'Electrical', 'FireplaceQu', 'GarageType', 'GarageYrBlt', 'GarageFinish', 'GarageQual', 'GarageCond', 'PoolQC', 'Fence', 'MiscFeature']\n",
      "Remaining columns w/ \"NA\" values 17\n"
     ]
    }
   ],
   "source": [
    "na_sort('MasVnrType', 'mode')"
   ]
  },
  {
   "cell_type": "code",
   "execution_count": 20,
   "metadata": {},
   "outputs": [
    {
     "name": "stdout",
     "output_type": "stream",
     "text": [
      "Median: 0.0,\n",
      "Mode: 0    0.0\n",
      "dtype: float64,         \n",
      "Skew: 2.669084210182863, \n",
      "Kurtosis: 10.08241731736711,         \n",
      "count    1452.000000\n",
      "mean      103.685262\n",
      "std       181.066207\n",
      "min         0.000000\n",
      "25%         0.000000\n",
      "50%         0.000000\n",
      "75%       166.000000\n",
      "max      1600.000000\n",
      "Name: MasVnrArea, dtype: float64 \n",
      "\"Na\" value count: 8 \n"
     ]
    },
    {
     "data": {
      "image/png": "[encoded data removed]",
      "text/plain": [
       "<Figure size 864x288 with 2 Axes>"
      ]
     },
     "metadata": {
      "needs_background": "light"
     },
     "output_type": "display_data"
    }
   ],
   "source": [
    "scribe_stats('MasVnrArea')"
   ]
  },
  {
   "cell_type": "code",
   "execution_count": 21,
   "metadata": {},
   "outputs": [
    {
     "name": "stdout",
     "output_type": "stream",
     "text": [
      "['Alley', 'BsmtQual', 'BsmtCond', 'BsmtExposure', 'BsmtFinType1', 'BsmtFinType2', 'Electrical', 'FireplaceQu', 'GarageType', 'GarageYrBlt', 'GarageFinish', 'GarageQual', 'GarageCond', 'PoolQC', 'Fence', 'MiscFeature']\n",
      "Remaining columns w/ \"NA\" values 16\n"
     ]
    }
   ],
   "source": [
    "na_sort('MasVnrArea', 'mean')"
   ]
  },
  {
   "cell_type": "code",
   "execution_count": 22,
   "metadata": {},
   "outputs": [
    {
     "name": "stdout",
     "output_type": "stream",
     "text": [
      "count     1423\n",
      "unique       4\n",
      "top         TA\n",
      "freq       649\n",
      "Name: BsmtQual, dtype: object\n",
      "\"Na\" value count: 37\n",
      "\"Na\" % missing: 0.025342465753424658\n"
     ]
    },
    {
     "data": {
      "image/png": "[encoded data removed]",
      "text/plain": [
       "<Figure size 432x288 with 1 Axes>"
      ]
     },
     "metadata": {
      "needs_background": "light"
     },
     "output_type": "display_data"
    }
   ],
   "source": [
    "scribe_stats('BsmtQual')"
   ]
  },
  {
   "cell_type": "code",
   "execution_count": 23,
   "metadata": {},
   "outputs": [
    {
     "name": "stdout",
     "output_type": "stream",
     "text": [
      "['Alley', 'BsmtCond', 'BsmtExposure', 'BsmtFinType1', 'BsmtFinType2', 'Electrical', 'FireplaceQu', 'GarageType', 'GarageYrBlt', 'GarageFinish', 'GarageQual', 'GarageCond', 'PoolQC', 'Fence', 'MiscFeature']\n",
      "Remaining columns w/ \"NA\" values 15\n"
     ]
    }
   ],
   "source": [
    "na_sort('BsmtQual', 'mode')"
   ]
  },
  {
   "cell_type": "code",
   "execution_count": 24,
   "metadata": {},
   "outputs": [
    {
     "name": "stdout",
     "output_type": "stream",
     "text": [
      "count     1423\n",
      "unique       4\n",
      "top         TA\n",
      "freq      1311\n",
      "Name: BsmtCond, dtype: object\n",
      "\"Na\" value count: 37\n",
      "\"Na\" % missing: 0.025342465753424658\n"
     ]
    },
    {
     "data": {
      "image/png": "[encoded data removed]",
      "text/plain": [
       "<Figure size 432x288 with 1 Axes>"
      ]
     },
     "metadata": {
      "needs_background": "light"
     },
     "output_type": "display_data"
    }
   ],
   "source": [
    "scribe_stats('BsmtCond')"
   ]
  },
  {
   "cell_type": "code",
   "execution_count": 25,
   "metadata": {},
   "outputs": [
    {
     "name": "stdout",
     "output_type": "stream",
     "text": [
      "['Alley', 'BsmtExposure', 'BsmtFinType1', 'BsmtFinType2', 'Electrical', 'FireplaceQu', 'GarageType', 'GarageYrBlt', 'GarageFinish', 'GarageQual', 'GarageCond', 'PoolQC', 'Fence', 'MiscFeature']\n",
      "Remaining columns w/ \"NA\" values 14\n"
     ]
    }
   ],
   "source": [
    "na_sort('BsmtCond', 'mode')"
   ]
  },
  {
   "cell_type": "code",
   "execution_count": 26,
   "metadata": {},
   "outputs": [
    {
     "name": "stdout",
     "output_type": "stream",
     "text": [
      "count     1422\n",
      "unique       4\n",
      "top         No\n",
      "freq       953\n",
      "Name: BsmtExposure, dtype: object\n",
      "\"Na\" value count: 38\n",
      "\"Na\" % missing: 0.026027397260273973\n"
     ]
    },
    {
     "data": {
      "image/png": "[encoded data removed]",
      "text/plain": [
       "<Figure size 432x288 with 1 Axes>"
      ]
     },
     "metadata": {
      "needs_background": "light"
     },
     "output_type": "display_data"
    }
   ],
   "source": [
    "scribe_stats('BsmtExposure')"
   ]
  },
  {
   "cell_type": "code",
   "execution_count": 27,
   "metadata": {},
   "outputs": [
    {
     "name": "stdout",
     "output_type": "stream",
     "text": [
      "['Alley', 'BsmtFinType1', 'BsmtFinType2', 'Electrical', 'FireplaceQu', 'GarageType', 'GarageYrBlt', 'GarageFinish', 'GarageQual', 'GarageCond', 'PoolQC', 'Fence', 'MiscFeature']\n",
      "Remaining columns w/ \"NA\" values 13\n"
     ]
    }
   ],
   "source": [
    "na_sort('BsmtExposure','mode')"
   ]
  },
  {
   "cell_type": "code",
   "execution_count": 28,
   "metadata": {},
   "outputs": [
    {
     "name": "stdout",
     "output_type": "stream",
     "text": [
      "count     1423\n",
      "unique       6\n",
      "top        Unf\n",
      "freq       430\n",
      "Name: BsmtFinType1, dtype: object\n",
      "\"Na\" value count: 37\n",
      "\"Na\" % missing: 0.025342465753424658\n"
     ]
    },
    {
     "data": {
      "image/png": "[encoded data removed]",
      "text/plain": [
       "<Figure size 432x288 with 1 Axes>"
      ]
     },
     "metadata": {
      "needs_background": "light"
     },
     "output_type": "display_data"
    }
   ],
   "source": [
    "scribe_stats('BsmtFinType1')"
   ]
  },
  {
   "cell_type": "code",
   "execution_count": 29,
   "metadata": {},
   "outputs": [
    {
     "name": "stdout",
     "output_type": "stream",
     "text": [
      "['Alley', 'BsmtFinType2', 'Electrical', 'FireplaceQu', 'GarageType', 'GarageYrBlt', 'GarageFinish', 'GarageQual', 'GarageCond', 'PoolQC', 'Fence', 'MiscFeature']\n",
      "Remaining columns w/ \"NA\" values 12\n"
     ]
    }
   ],
   "source": [
    "na_sort('BsmtFinType1','mode')"
   ]
  },
  {
   "cell_type": "code",
   "execution_count": 30,
   "metadata": {},
   "outputs": [
    {
     "name": "stdout",
     "output_type": "stream",
     "text": [
      "count     1422\n",
      "unique       6\n",
      "top        Unf\n",
      "freq      1256\n",
      "Name: BsmtFinType2, dtype: object\n",
      "\"Na\" value count: 38\n",
      "\"Na\" % missing: 0.026027397260273973\n"
     ]
    },
    {
     "data": {
      "image/png": "[encoded data removed]",
      "text/plain": [
       "<Figure size 432x288 with 1 Axes>"
      ]
     },
     "metadata": {
      "needs_background": "light"
     },
     "output_type": "display_data"
    }
   ],
   "source": [
    "scribe_stats('BsmtFinType2')"
   ]
  },
  {
   "cell_type": "code",
   "execution_count": 31,
   "metadata": {},
   "outputs": [
    {
     "name": "stdout",
     "output_type": "stream",
     "text": [
      "['Alley', 'Electrical', 'FireplaceQu', 'GarageType', 'GarageYrBlt', 'GarageFinish', 'GarageQual', 'GarageCond', 'PoolQC', 'Fence', 'MiscFeature']\n",
      "Remaining columns w/ \"NA\" values 11\n"
     ]
    }
   ],
   "source": [
    "na_sort('BsmtFinType2','mode')"
   ]
  },
  {
   "cell_type": "code",
   "execution_count": 32,
   "metadata": {},
   "outputs": [
    {
     "name": "stdout",
     "output_type": "stream",
     "text": [
      "count      1459\n",
      "unique        5\n",
      "top       SBrkr\n",
      "freq       1334\n",
      "Name: Electrical, dtype: object\n",
      "\"Na\" value count: 1\n",
      "\"Na\" % missing: 0.0006849315068493151\n"
     ]
    },
    {
     "data": {
      "image/png": "[encoded data removed]",
      "text/plain": [
       "<Figure size 432x288 with 1 Axes>"
      ]
     },
     "metadata": {
      "needs_background": "light"
     },
     "output_type": "display_data"
    }
   ],
   "source": [
    "scribe_stats('Electrical')"
   ]
  },
  {
   "cell_type": "code",
   "execution_count": 33,
   "metadata": {},
   "outputs": [
    {
     "name": "stdout",
     "output_type": "stream",
     "text": [
      "['Alley', 'FireplaceQu', 'GarageType', 'GarageYrBlt', 'GarageFinish', 'GarageQual', 'GarageCond', 'PoolQC', 'Fence', 'MiscFeature']\n",
      "Remaining columns w/ \"NA\" values 10\n"
     ]
    }
   ],
   "source": [
    "na_sort('Electrical','mode')"
   ]
  },
  {
   "cell_type": "code",
   "execution_count": 34,
   "metadata": {},
   "outputs": [
    {
     "name": "stdout",
     "output_type": "stream",
     "text": [
      "count       1379\n",
      "unique         6\n",
      "top       Attchd\n",
      "freq         870\n",
      "Name: GarageType, dtype: object\n",
      "\"Na\" value count: 81\n",
      "\"Na\" % missing: 0.05547945205479452\n"
     ]
    },
    {
     "data": {
      "image/png": "[encoded data removed]",
      "text/plain": [
       "<Figure size 432x288 with 1 Axes>"
      ]
     },
     "metadata": {
      "needs_background": "light"
     },
     "output_type": "display_data"
    }
   ],
   "source": [
    "scribe_stats('GarageType')"
   ]
  },
  {
   "cell_type": "code",
   "execution_count": 35,
   "metadata": {},
   "outputs": [
    {
     "name": "stdout",
     "output_type": "stream",
     "text": [
      "['Alley', 'FireplaceQu', 'GarageYrBlt', 'GarageFinish', 'GarageQual', 'GarageCond', 'PoolQC', 'Fence', 'MiscFeature']\n",
      "Remaining columns w/ \"NA\" values 9\n"
     ]
    }
   ],
   "source": [
    "na_sort('GarageType','mode')"
   ]
  },
  {
   "cell_type": "code",
   "execution_count": 36,
   "metadata": {},
   "outputs": [
    {
     "name": "stdout",
     "output_type": "stream",
     "text": [
      "Median: 1980.0,\n",
      "Mode: 0    2005.0\n",
      "dtype: float64,         \n",
      "Skew: -0.6494146238714679, \n",
      "Kurtosis: -0.4183409979729644,         \n",
      "count    1379.000000\n",
      "mean     1978.506164\n",
      "std        24.689725\n",
      "min      1900.000000\n",
      "25%      1961.000000\n",
      "50%      1980.000000\n",
      "75%      2002.000000\n",
      "max      2010.000000\n",
      "Name: GarageYrBlt, dtype: float64 \n",
      "\"Na\" value count: 81 \n"
     ]
    },
    {
     "data": {
      "image/png": "[encoded data removed]",
      "text/plain": [
       "<Figure size 864x288 with 2 Axes>"
      ]
     },
     "metadata": {
      "needs_background": "light"
     },
     "output_type": "display_data"
    }
   ],
   "source": [
    "scribe_stats('GarageYrBlt')"
   ]
  },
  {
   "cell_type": "code",
   "execution_count": 37,
   "metadata": {},
   "outputs": [
    {
     "name": "stdout",
     "output_type": "stream",
     "text": [
      "['Alley', 'FireplaceQu', 'GarageFinish', 'GarageQual', 'GarageCond', 'PoolQC', 'Fence', 'MiscFeature']\n",
      "Remaining columns w/ \"NA\" values 8\n"
     ]
    }
   ],
   "source": [
    "na_sort('GarageYrBlt','mean')"
   ]
  },
  {
   "cell_type": "code",
   "execution_count": 38,
   "metadata": {},
   "outputs": [
    {
     "name": "stdout",
     "output_type": "stream",
     "text": [
      "count     1379\n",
      "unique       3\n",
      "top        Unf\n",
      "freq       605\n",
      "Name: GarageFinish, dtype: object\n",
      "\"Na\" value count: 81\n",
      "\"Na\" % missing: 0.05547945205479452\n"
     ]
    },
    {
     "data": {
      "image/png": "[encoded data removed]",
      "text/plain": [
       "<Figure size 432x288 with 1 Axes>"
      ]
     },
     "metadata": {
      "needs_background": "light"
     },
     "output_type": "display_data"
    }
   ],
   "source": [
    "scribe_stats('GarageFinish')"
   ]
  },
  {
   "cell_type": "code",
   "execution_count": 39,
   "metadata": {},
   "outputs": [
    {
     "name": "stdout",
     "output_type": "stream",
     "text": [
      "['Alley', 'FireplaceQu', 'GarageQual', 'GarageCond', 'PoolQC', 'Fence', 'MiscFeature']\n",
      "Remaining columns w/ \"NA\" values 7\n"
     ]
    }
   ],
   "source": [
    "na_sort('GarageFinish','mode')"
   ]
  },
  {
   "cell_type": "code",
   "execution_count": 40,
   "metadata": {},
   "outputs": [
    {
     "name": "stdout",
     "output_type": "stream",
     "text": [
      "count     1379\n",
      "unique       5\n",
      "top         TA\n",
      "freq      1311\n",
      "Name: GarageQual, dtype: object\n",
      "\"Na\" value count: 81\n",
      "\"Na\" % missing: 0.05547945205479452\n"
     ]
    },
    {
     "data": {
      "image/png": "[encoded data removed]",
      "text/plain": [
       "<Figure size 432x288 with 1 Axes>"
      ]
     },
     "metadata": {
      "needs_background": "light"
     },
     "output_type": "display_data"
    }
   ],
   "source": [
    "scribe_stats('GarageQual')"
   ]
  },
  {
   "cell_type": "code",
   "execution_count": 41,
   "metadata": {},
   "outputs": [
    {
     "name": "stdout",
     "output_type": "stream",
     "text": [
      "['Alley', 'FireplaceQu', 'GarageCond', 'PoolQC', 'Fence', 'MiscFeature']\n",
      "Remaining columns w/ \"NA\" values 6\n"
     ]
    }
   ],
   "source": [
    "na_sort('GarageQual','mode')"
   ]
  },
  {
   "cell_type": "code",
   "execution_count": 42,
   "metadata": {},
   "outputs": [
    {
     "name": "stdout",
     "output_type": "stream",
     "text": [
      "count     1379\n",
      "unique       5\n",
      "top         TA\n",
      "freq      1326\n",
      "Name: GarageCond, dtype: object\n",
      "\"Na\" value count: 81\n",
      "\"Na\" % missing: 0.05547945205479452\n"
     ]
    },
    {
     "data": {
      "image/png": "[encoded data removed]",
      "text/plain": [
       "<Figure size 432x288 with 1 Axes>"
      ]
     },
     "metadata": {
      "needs_background": "light"
     },
     "output_type": "display_data"
    }
   ],
   "source": [
    "scribe_stats('GarageCond')"
   ]
  },
  {
   "cell_type": "code",
   "execution_count": 43,
   "metadata": {},
   "outputs": [
    {
     "name": "stdout",
     "output_type": "stream",
     "text": [
      "['Alley', 'FireplaceQu', 'PoolQC', 'Fence', 'MiscFeature']\n",
      "Remaining columns w/ \"NA\" values 5\n"
     ]
    }
   ],
   "source": [
    "na_sort('GarageCond','mode')"
   ]
  },
  {
   "cell_type": "markdown",
   "metadata": {},
   "source": [
    "---"
   ]
  },
  {
   "cell_type": "markdown",
   "metadata": {},
   "source": [
    "## Target Variable (SalePrice) <a name='target'></a>\n",
    "[Table of Contents](#table)"
   ]
  },
  {
   "cell_type": "code",
   "execution_count": 44,
   "metadata": {},
   "outputs": [
    {
     "name": "stdout",
     "output_type": "stream",
     "text": [
      "Median: 163000.0,\n",
      "Mode: 0    140000\n",
      "dtype: int64,         \n",
      "Skew: 1.8828757597682129, \n",
      "Kurtosis: 6.536281860064529,         \n",
      "count      1460.000000\n",
      "mean     180921.195890\n",
      "std       79442.502883\n",
      "min       34900.000000\n",
      "25%      129975.000000\n",
      "50%      163000.000000\n",
      "75%      214000.000000\n",
      "max      755000.000000\n",
      "Name: SalePrice, dtype: float64 \n",
      "\"Na\" value count: 0 \n"
     ]
    },
    {
     "data": {
      "image/png": "[encoded data removed]",
      "text/plain": [
       "<Figure size 864x288 with 2 Axes>"
      ]
     },
     "metadata": {
      "needs_background": "light"
     },
     "output_type": "display_data"
    }
   ],
   "source": [
    "scribe_stats('SalePrice')"
   ]
  },
  {
   "cell_type": "markdown",
   "metadata": {},
   "source": [
    "---"
   ]
  },
  {
   "cell_type": "code",
   "execution_count": 46,
   "metadata": {},
   "outputs": [],
   "source": [
    "def cont_scatter(df, compare, sale_price=train_data.SalePrice):\n",
    "    \n",
    "    plt.figure(figsize=(16,4))\n",
    "    \n",
    "    plt.subplot(1,3,1)\n",
    "    plt.hist(df[compare])\n",
    "    \n",
    "    plt.subplot(1,3,2)\n",
    "    plt.scatter(df[compare], sale_price)\n",
    "    \n",
    "    plt.subplot(1,3,3)\n",
    "    plt.boxplot(df[compare])\n",
    "    print(f'Median: {df[compare].median()},\\nMode: {df[compare].mode()}, \\\n",
    "    \\nSkew: {df[compare].skew()}, \\nKurtosis: {df[compare].kurtosis()}, \\n{df[compare].describe()}')\n",
    "    \n",
    "    return"
   ]
  },
  {
   "cell_type": "code",
   "execution_count": 47,
   "metadata": {},
   "outputs": [
    {
     "name": "stdout",
     "output_type": "stream",
     "text": [
      "Median: 9478.5,\n",
      "Mode: 0    7200\n",
      "dtype: int64,     \n",
      "Skew: 12.207687851233496, \n",
      "Kurtosis: 203.24327101886033, \n",
      "count      1460.000000\n",
      "mean      10516.828082\n",
      "std        9981.264932\n",
      "min        1300.000000\n",
      "25%        7553.500000\n",
      "50%        9478.500000\n",
      "75%       11601.500000\n",
      "max      215245.000000\n",
      "Name: LotArea, dtype: float64\n"
     ]
    },
    {
     "data": {
      "image/png": "[encoded data removed]",
      "text/plain": [
       "<Figure size 1152x288 with 3 Axes>"
      ]
     },
     "metadata": {
      "needs_background": "light"
     },
     "output_type": "display_data"
    }
   ],
   "source": [
    "cont_scatter(train_data,'LotArea')"
   ]
  },
  {
   "cell_type": "code",
   "execution_count": 48,
   "metadata": {},
   "outputs": [],
   "source": [
    "from sklearn.pipeline import Pipeline\n",
    "from sklearn.preprocessing import StandardScaler, OneHotEncoder, LabelEncoder\n",
    "from sklearn.compose import ColumnTransformer\n",
    "from sklearn.impute import SimpleImputer\n",
    "from sklearn.linear_model import LinearRegression, Ridge, LassoCV, HuberRegressor, BayesianRidge\n",
    "from sklearn.model_selection import cross_val_score"
   ]
  },
  {
   "cell_type": "markdown",
   "metadata": {},
   "source": [
    "### Pipeline <a name='Pipeline'></a>\n",
    "[Table of Contents](#table)"
   ]
  },
  {
   "cell_type": "code",
   "execution_count": 49,
   "metadata": {},
   "outputs": [],
   "source": [
    "# X_train[na_mean] = X_train[na_mean].fillna((X_train[na_mean].mean()))\n",
    "# X_train[na_mode] = X_train[na_mode].fillna(X_train[na_mode].mode().iloc[0])\n",
    "# X_train.isna().sum().sort_values(ascending=False)[:14]"
   ]
  },
  {
   "cell_type": "code",
   "execution_count": null,
   "metadata": {},
   "outputs": [],
   "source": []
  },
  {
   "cell_type": "code",
   "execution_count": 50,
   "metadata": {},
   "outputs": [],
   "source": [
    "y_train = X_train.SalePrice\n",
    "X_train.drop(axis=1,columns='SalePrice',inplace=True)"
   ]
  },
  {
   "cell_type": "code",
   "execution_count": 51,
   "metadata": {},
   "outputs": [],
   "source": [
    "continuous_features = X_train.select_dtypes(np.number).columns.tolist()\n",
    "categorical_features = X_train.select_dtypes('object').columns.tolist()"
   ]
  },
  {
   "cell_type": "code",
   "execution_count": 52,
   "metadata": {},
   "outputs": [
    {
     "data": {
      "text/plain": [
       "Id               True\n",
       "MSSubClass       True\n",
       "LotFrontage      True\n",
       "LotArea          True\n",
       "OverallQual      True\n",
       "OverallCond      True\n",
       "YearBuilt        True\n",
       "YearRemodAdd     True\n",
       "MasVnrArea       True\n",
       "BsmtFinSF1       True\n",
       "BsmtFinSF2       True\n",
       "BsmtUnfSF        True\n",
       "TotalBsmtSF      True\n",
       "1stFlrSF         True\n",
       "2ndFlrSF         True\n",
       "LowQualFinSF     True\n",
       "GrLivArea        True\n",
       "BsmtFullBath     True\n",
       "BsmtHalfBath     True\n",
       "FullBath         True\n",
       "HalfBath         True\n",
       "BedroomAbvGr     True\n",
       "KitchenAbvGr     True\n",
       "TotRmsAbvGrd     True\n",
       "Fireplaces       True\n",
       "GarageYrBlt      True\n",
       "GarageCars       True\n",
       "GarageArea       True\n",
       "WoodDeckSF       True\n",
       "OpenPorchSF      True\n",
       "EnclosedPorch    True\n",
       "3SsnPorch        True\n",
       "ScreenPorch      True\n",
       "PoolArea         True\n",
       "MiscVal          True\n",
       "MoSold           True\n",
       "YrSold           True\n",
       "dtype: bool"
      ]
     },
     "execution_count": 52,
     "metadata": {},
     "output_type": "execute_result"
    }
   ],
   "source": [
    "cont_test=  X_train.select_dtypes(np.number)\n",
    "cont_test.apply(lambda x: not st.shapiro(x.fillna(0))[1] > 0.01)"
   ]
  },
  {
   "cell_type": "code",
   "execution_count": 53,
   "metadata": {},
   "outputs": [],
   "source": [
    "continuous_transform = Pipeline([\n",
    "    ('na_imputer', SimpleImputer(strategy='median')),\n",
    "    ('scaler', StandardScaler()),\n",
    "])"
   ]
  },
  {
   "cell_type": "code",
   "execution_count": 54,
   "metadata": {},
   "outputs": [],
   "source": [
    "categorical_transform = Pipeline([\n",
    "    ('imputer', SimpleImputer(strategy='constant', fill_value='most_frequent')),\n",
    "#     ('one_hot', OneHotEncoder(handle_unknown='ignore')),\n",
    "])"
   ]
  },
  {
   "cell_type": "code",
   "execution_count": 55,
   "metadata": {},
   "outputs": [],
   "source": [
    "preprocessor = ColumnTransformer([\n",
    "    ('num', continuous_transform, continuous_features),\n",
    "    ('cat', categorical_transform, categorical_features),\n",
    "])"
   ]
  },
  {
   "cell_type": "code",
   "execution_count": 56,
   "metadata": {},
   "outputs": [],
   "source": [
    "linear_pipe = Pipeline([\n",
    "    ('preprocessor', preprocessor),\n",
    "    ('Linear', LinearRegression()),\n",
    "])"
   ]
  },
  {
   "cell_type": "code",
   "execution_count": 57,
   "metadata": {},
   "outputs": [],
   "source": [
    "ridge_pipe = Pipeline([\n",
    "    ('preprocessor', preprocessor),\n",
    "    ('Ridge', Ridge(random_state=24)),\n",
    "])"
   ]
  },
  {
   "cell_type": "code",
   "execution_count": 58,
   "metadata": {},
   "outputs": [],
   "source": [
    "huber_pipe = Pipeline([\n",
    "    ('preprocessor', preprocessor),\n",
    "    ('Huber', HuberRegressor()),\n",
    "])"
   ]
  },
  {
   "cell_type": "code",
   "execution_count": 59,
   "metadata": {},
   "outputs": [],
   "source": [
    "lassoCV_pipe = Pipeline([\n",
    "    ('preprocessor', preprocessor),\n",
    "    ('Lasso', LassoCV(random_state=24, fit_intercept=True)),\n",
    "])"
   ]
  },
  {
   "cell_type": "code",
   "execution_count": 60,
   "metadata": {},
   "outputs": [],
   "source": [
    "bayesian_ridge_pipe = Pipeline([\n",
    "    ('preprocessor', preprocessor),\n",
    "    ('BayesianRidge', BayesianRidge(n_iter=500, compute_score=True))\n",
    "])"
   ]
  },
  {
   "cell_type": "code",
   "execution_count": 61,
   "metadata": {},
   "outputs": [],
   "source": [
    "pipe_list = [linear_pipe, ridge_pipe, huber_pipe]\n",
    "# ,lassoCV_pipe , , , bayesian_ridge_pipe"
   ]
  },
  {
   "cell_type": "code",
   "execution_count": 62,
   "metadata": {},
   "outputs": [
    {
     "name": "stdout",
     "output_type": "stream",
     "text": [
      "|Model| \t |RMSE Mean| \t |STD| \t |Scores|\n",
      "--------------------------------------------------------------------------------\n",
      "Linear \t 00000nan \t 00000nan \t [nan nan nan nan nan]\n"
     ]
    },
    {
     "name": "stderr",
     "output_type": "stream",
     "text": [
      "C:\\Users\\Brian\\miniconda3\\lib\\site-packages\\sklearn\\model_selection\\_validation.py:552: FitFailedWarning: Estimator fit failed. The score on this train-test partition for these parameters will be set to nan. Details: \n",
      "Traceback (most recent call last):\n",
      "  File \"C:\\Users\\Brian\\miniconda3\\lib\\site-packages\\sklearn\\model_selection\\_validation.py\", line 531, in _fit_and_score\n",
      "    estimator.fit(X_train, y_train, **fit_params)\n",
      "  File \"C:\\Users\\Brian\\miniconda3\\lib\\site-packages\\sklearn\\pipeline.py\", line 335, in fit\n",
      "    self._final_estimator.fit(Xt, y, **fit_params_last_step)\n",
      "  File \"C:\\Users\\Brian\\miniconda3\\lib\\site-packages\\sklearn\\linear_model\\_base.py\", line 506, in fit\n",
      "    y_numeric=True, multi_output=True)\n",
      "  File \"C:\\Users\\Brian\\miniconda3\\lib\\site-packages\\sklearn\\base.py\", line 432, in _validate_data\n",
      "    X, y = check_X_y(X, y, **check_params)\n",
      "  File \"C:\\Users\\Brian\\miniconda3\\lib\\site-packages\\sklearn\\utils\\validation.py\", line 73, in inner_f\n",
      "    return f(**kwargs)\n",
      "  File \"C:\\Users\\Brian\\miniconda3\\lib\\site-packages\\sklearn\\utils\\validation.py\", line 803, in check_X_y\n",
      "    estimator=estimator)\n",
      "  File \"C:\\Users\\Brian\\miniconda3\\lib\\site-packages\\sklearn\\utils\\validation.py\", line 73, in inner_f\n",
      "    return f(**kwargs)\n",
      "  File \"C:\\Users\\Brian\\miniconda3\\lib\\site-packages\\sklearn\\utils\\validation.py\", line 599, in check_array\n",
      "    array = np.asarray(array, order=order, dtype=dtype)\n",
      "  File \"C:\\Users\\Brian\\miniconda3\\lib\\site-packages\\numpy\\core\\_asarray.py\", line 83, in asarray\n",
      "    return array(a, dtype, copy=False, order=order)\n",
      "ValueError: could not convert string to float: 'RL'\n",
      "\n",
      "  FitFailedWarning)\n",
      "C:\\Users\\Brian\\miniconda3\\lib\\site-packages\\sklearn\\model_selection\\_validation.py:552: FitFailedWarning: Estimator fit failed. The score on this train-test partition for these parameters will be set to nan. Details: \n",
      "Traceback (most recent call last):\n",
      "  File \"C:\\Users\\Brian\\miniconda3\\lib\\site-packages\\sklearn\\model_selection\\_validation.py\", line 531, in _fit_and_score\n",
      "    estimator.fit(X_train, y_train, **fit_params)\n",
      "  File \"C:\\Users\\Brian\\miniconda3\\lib\\site-packages\\sklearn\\pipeline.py\", line 335, in fit\n",
      "    self._final_estimator.fit(Xt, y, **fit_params_last_step)\n",
      "  File \"C:\\Users\\Brian\\miniconda3\\lib\\site-packages\\sklearn\\linear_model\\_base.py\", line 506, in fit\n",
      "    y_numeric=True, multi_output=True)\n",
      "  File \"C:\\Users\\Brian\\miniconda3\\lib\\site-packages\\sklearn\\base.py\", line 432, in _validate_data\n",
      "    X, y = check_X_y(X, y, **check_params)\n",
      "  File \"C:\\Users\\Brian\\miniconda3\\lib\\site-packages\\sklearn\\utils\\validation.py\", line 73, in inner_f\n",
      "    return f(**kwargs)\n",
      "  File \"C:\\Users\\Brian\\miniconda3\\lib\\site-packages\\sklearn\\utils\\validation.py\", line 803, in check_X_y\n",
      "    estimator=estimator)\n",
      "  File \"C:\\Users\\Brian\\miniconda3\\lib\\site-packages\\sklearn\\utils\\validation.py\", line 73, in inner_f\n",
      "    return f(**kwargs)\n",
      "  File \"C:\\Users\\Brian\\miniconda3\\lib\\site-packages\\sklearn\\utils\\validation.py\", line 599, in check_array\n",
      "    array = np.asarray(array, order=order, dtype=dtype)\n",
      "  File \"C:\\Users\\Brian\\miniconda3\\lib\\site-packages\\numpy\\core\\_asarray.py\", line 83, in asarray\n",
      "    return array(a, dtype, copy=False, order=order)\n",
      "ValueError: could not convert string to float: 'RL'\n",
      "\n",
      "  FitFailedWarning)\n",
      "C:\\Users\\Brian\\miniconda3\\lib\\site-packages\\sklearn\\model_selection\\_validation.py:552: FitFailedWarning: Estimator fit failed. The score on this train-test partition for these parameters will be set to nan. Details: \n",
      "Traceback (most recent call last):\n",
      "  File \"C:\\Users\\Brian\\miniconda3\\lib\\site-packages\\sklearn\\model_selection\\_validation.py\", line 531, in _fit_and_score\n",
      "    estimator.fit(X_train, y_train, **fit_params)\n",
      "  File \"C:\\Users\\Brian\\miniconda3\\lib\\site-packages\\sklearn\\pipeline.py\", line 335, in fit\n",
      "    self._final_estimator.fit(Xt, y, **fit_params_last_step)\n",
      "  File \"C:\\Users\\Brian\\miniconda3\\lib\\site-packages\\sklearn\\linear_model\\_base.py\", line 506, in fit\n",
      "    y_numeric=True, multi_output=True)\n",
      "  File \"C:\\Users\\Brian\\miniconda3\\lib\\site-packages\\sklearn\\base.py\", line 432, in _validate_data\n",
      "    X, y = check_X_y(X, y, **check_params)\n",
      "  File \"C:\\Users\\Brian\\miniconda3\\lib\\site-packages\\sklearn\\utils\\validation.py\", line 73, in inner_f\n",
      "    return f(**kwargs)\n",
      "  File \"C:\\Users\\Brian\\miniconda3\\lib\\site-packages\\sklearn\\utils\\validation.py\", line 803, in check_X_y\n",
      "    estimator=estimator)\n",
      "  File \"C:\\Users\\Brian\\miniconda3\\lib\\site-packages\\sklearn\\utils\\validation.py\", line 73, in inner_f\n",
      "    return f(**kwargs)\n",
      "  File \"C:\\Users\\Brian\\miniconda3\\lib\\site-packages\\sklearn\\utils\\validation.py\", line 599, in check_array\n",
      "    array = np.asarray(array, order=order, dtype=dtype)\n",
      "  File \"C:\\Users\\Brian\\miniconda3\\lib\\site-packages\\numpy\\core\\_asarray.py\", line 83, in asarray\n",
      "    return array(a, dtype, copy=False, order=order)\n",
      "ValueError: could not convert string to float: 'RL'\n",
      "\n",
      "  FitFailedWarning)\n",
      "C:\\Users\\Brian\\miniconda3\\lib\\site-packages\\sklearn\\model_selection\\_validation.py:552: FitFailedWarning: Estimator fit failed. The score on this train-test partition for these parameters will be set to nan. Details: \n",
      "Traceback (most recent call last):\n",
      "  File \"C:\\Users\\Brian\\miniconda3\\lib\\site-packages\\sklearn\\model_selection\\_validation.py\", line 531, in _fit_and_score\n",
      "    estimator.fit(X_train, y_train, **fit_params)\n",
      "  File \"C:\\Users\\Brian\\miniconda3\\lib\\site-packages\\sklearn\\pipeline.py\", line 335, in fit\n",
      "    self._final_estimator.fit(Xt, y, **fit_params_last_step)\n",
      "  File \"C:\\Users\\Brian\\miniconda3\\lib\\site-packages\\sklearn\\linear_model\\_base.py\", line 506, in fit\n",
      "    y_numeric=True, multi_output=True)\n",
      "  File \"C:\\Users\\Brian\\miniconda3\\lib\\site-packages\\sklearn\\base.py\", line 432, in _validate_data\n",
      "    X, y = check_X_y(X, y, **check_params)\n",
      "  File \"C:\\Users\\Brian\\miniconda3\\lib\\site-packages\\sklearn\\utils\\validation.py\", line 73, in inner_f\n",
      "    return f(**kwargs)\n",
      "  File \"C:\\Users\\Brian\\miniconda3\\lib\\site-packages\\sklearn\\utils\\validation.py\", line 803, in check_X_y\n",
      "    estimator=estimator)\n",
      "  File \"C:\\Users\\Brian\\miniconda3\\lib\\site-packages\\sklearn\\utils\\validation.py\", line 73, in inner_f\n",
      "    return f(**kwargs)\n",
      "  File \"C:\\Users\\Brian\\miniconda3\\lib\\site-packages\\sklearn\\utils\\validation.py\", line 599, in check_array\n",
      "    array = np.asarray(array, order=order, dtype=dtype)\n",
      "  File \"C:\\Users\\Brian\\miniconda3\\lib\\site-packages\\numpy\\core\\_asarray.py\", line 83, in asarray\n",
      "    return array(a, dtype, copy=False, order=order)\n",
      "ValueError: could not convert string to float: 'RL'\n",
      "\n",
      "  FitFailedWarning)\n",
      "C:\\Users\\Brian\\miniconda3\\lib\\site-packages\\sklearn\\model_selection\\_validation.py:552: FitFailedWarning: Estimator fit failed. The score on this train-test partition for these parameters will be set to nan. Details: \n",
      "Traceback (most recent call last):\n",
      "  File \"C:\\Users\\Brian\\miniconda3\\lib\\site-packages\\sklearn\\model_selection\\_validation.py\", line 531, in _fit_and_score\n",
      "    estimator.fit(X_train, y_train, **fit_params)\n",
      "  File \"C:\\Users\\Brian\\miniconda3\\lib\\site-packages\\sklearn\\pipeline.py\", line 335, in fit\n",
      "    self._final_estimator.fit(Xt, y, **fit_params_last_step)\n",
      "  File \"C:\\Users\\Brian\\miniconda3\\lib\\site-packages\\sklearn\\linear_model\\_base.py\", line 506, in fit\n",
      "    y_numeric=True, multi_output=True)\n",
      "  File \"C:\\Users\\Brian\\miniconda3\\lib\\site-packages\\sklearn\\base.py\", line 432, in _validate_data\n",
      "    X, y = check_X_y(X, y, **check_params)\n",
      "  File \"C:\\Users\\Brian\\miniconda3\\lib\\site-packages\\sklearn\\utils\\validation.py\", line 73, in inner_f\n",
      "    return f(**kwargs)\n",
      "  File \"C:\\Users\\Brian\\miniconda3\\lib\\site-packages\\sklearn\\utils\\validation.py\", line 803, in check_X_y\n",
      "    estimator=estimator)\n",
      "  File \"C:\\Users\\Brian\\miniconda3\\lib\\site-packages\\sklearn\\utils\\validation.py\", line 73, in inner_f\n",
      "    return f(**kwargs)\n",
      "  File \"C:\\Users\\Brian\\miniconda3\\lib\\site-packages\\sklearn\\utils\\validation.py\", line 599, in check_array\n",
      "    array = np.asarray(array, order=order, dtype=dtype)\n",
      "  File \"C:\\Users\\Brian\\miniconda3\\lib\\site-packages\\numpy\\core\\_asarray.py\", line 83, in asarray\n",
      "    return array(a, dtype, copy=False, order=order)\n",
      "ValueError: could not convert string to float: 'RL'\n",
      "\n",
      "  FitFailedWarning)\n",
      "C:\\Users\\Brian\\miniconda3\\lib\\site-packages\\sklearn\\model_selection\\_validation.py:552: FitFailedWarning: Estimator fit failed. The score on this train-test partition for these parameters will be set to nan. Details: \n",
      "Traceback (most recent call last):\n",
      "  File \"C:\\Users\\Brian\\miniconda3\\lib\\site-packages\\sklearn\\model_selection\\_validation.py\", line 531, in _fit_and_score\n",
      "    estimator.fit(X_train, y_train, **fit_params)\n",
      "  File \"C:\\Users\\Brian\\miniconda3\\lib\\site-packages\\sklearn\\pipeline.py\", line 335, in fit\n",
      "    self._final_estimator.fit(Xt, y, **fit_params_last_step)\n",
      "  File \"C:\\Users\\Brian\\miniconda3\\lib\\site-packages\\sklearn\\linear_model\\_ridge.py\", line 762, in fit\n",
      "    return super().fit(X, y, sample_weight=sample_weight)\n",
      "  File \"C:\\Users\\Brian\\miniconda3\\lib\\site-packages\\sklearn\\linear_model\\_ridge.py\", line 545, in fit\n",
      "    multi_output=True, y_numeric=True)\n",
      "  File \"C:\\Users\\Brian\\miniconda3\\lib\\site-packages\\sklearn\\base.py\", line 432, in _validate_data\n",
      "    X, y = check_X_y(X, y, **check_params)\n",
      "  File \"C:\\Users\\Brian\\miniconda3\\lib\\site-packages\\sklearn\\utils\\validation.py\", line 73, in inner_f\n",
      "    return f(**kwargs)\n",
      "  File \"C:\\Users\\Brian\\miniconda3\\lib\\site-packages\\sklearn\\utils\\validation.py\", line 803, in check_X_y\n",
      "    estimator=estimator)\n",
      "  File \"C:\\Users\\Brian\\miniconda3\\lib\\site-packages\\sklearn\\utils\\validation.py\", line 73, in inner_f\n",
      "    return f(**kwargs)\n",
      "  File \"C:\\Users\\Brian\\miniconda3\\lib\\site-packages\\sklearn\\utils\\validation.py\", line 599, in check_array\n",
      "    array = np.asarray(array, order=order, dtype=dtype)\n",
      "  File \"C:\\Users\\Brian\\miniconda3\\lib\\site-packages\\numpy\\core\\_asarray.py\", line 83, in asarray\n",
      "    return array(a, dtype, copy=False, order=order)\n",
      "ValueError: could not convert string to float: 'RL'\n",
      "\n",
      "  FitFailedWarning)\n",
      "C:\\Users\\Brian\\miniconda3\\lib\\site-packages\\sklearn\\model_selection\\_validation.py:552: FitFailedWarning: Estimator fit failed. The score on this train-test partition for these parameters will be set to nan. Details: \n",
      "Traceback (most recent call last):\n",
      "  File \"C:\\Users\\Brian\\miniconda3\\lib\\site-packages\\sklearn\\model_selection\\_validation.py\", line 531, in _fit_and_score\n",
      "    estimator.fit(X_train, y_train, **fit_params)\n",
      "  File \"C:\\Users\\Brian\\miniconda3\\lib\\site-packages\\sklearn\\pipeline.py\", line 335, in fit\n",
      "    self._final_estimator.fit(Xt, y, **fit_params_last_step)\n",
      "  File \"C:\\Users\\Brian\\miniconda3\\lib\\site-packages\\sklearn\\linear_model\\_ridge.py\", line 762, in fit\n",
      "    return super().fit(X, y, sample_weight=sample_weight)\n",
      "  File \"C:\\Users\\Brian\\miniconda3\\lib\\site-packages\\sklearn\\linear_model\\_ridge.py\", line 545, in fit\n",
      "    multi_output=True, y_numeric=True)\n",
      "  File \"C:\\Users\\Brian\\miniconda3\\lib\\site-packages\\sklearn\\base.py\", line 432, in _validate_data\n",
      "    X, y = check_X_y(X, y, **check_params)\n",
      "  File \"C:\\Users\\Brian\\miniconda3\\lib\\site-packages\\sklearn\\utils\\validation.py\", line 73, in inner_f\n",
      "    return f(**kwargs)\n",
      "  File \"C:\\Users\\Brian\\miniconda3\\lib\\site-packages\\sklearn\\utils\\validation.py\", line 803, in check_X_y\n",
      "    estimator=estimator)\n",
      "  File \"C:\\Users\\Brian\\miniconda3\\lib\\site-packages\\sklearn\\utils\\validation.py\", line 73, in inner_f\n",
      "    return f(**kwargs)\n",
      "  File \"C:\\Users\\Brian\\miniconda3\\lib\\site-packages\\sklearn\\utils\\validation.py\", line 599, in check_array\n",
      "    array = np.asarray(array, order=order, dtype=dtype)\n",
      "  File \"C:\\Users\\Brian\\miniconda3\\lib\\site-packages\\numpy\\core\\_asarray.py\", line 83, in asarray\n",
      "    return array(a, dtype, copy=False, order=order)\n",
      "ValueError: could not convert string to float: 'RL'\n",
      "\n",
      "  FitFailedWarning)\n",
      "C:\\Users\\Brian\\miniconda3\\lib\\site-packages\\sklearn\\model_selection\\_validation.py:552: FitFailedWarning: Estimator fit failed. The score on this train-test partition for these parameters will be set to nan. Details: \n",
      "Traceback (most recent call last):\n",
      "  File \"C:\\Users\\Brian\\miniconda3\\lib\\site-packages\\sklearn\\model_selection\\_validation.py\", line 531, in _fit_and_score\n",
      "    estimator.fit(X_train, y_train, **fit_params)\n",
      "  File \"C:\\Users\\Brian\\miniconda3\\lib\\site-packages\\sklearn\\pipeline.py\", line 335, in fit\n",
      "    self._final_estimator.fit(Xt, y, **fit_params_last_step)\n",
      "  File \"C:\\Users\\Brian\\miniconda3\\lib\\site-packages\\sklearn\\linear_model\\_ridge.py\", line 762, in fit\n",
      "    return super().fit(X, y, sample_weight=sample_weight)\n",
      "  File \"C:\\Users\\Brian\\miniconda3\\lib\\site-packages\\sklearn\\linear_model\\_ridge.py\", line 545, in fit\n",
      "    multi_output=True, y_numeric=True)\n",
      "  File \"C:\\Users\\Brian\\miniconda3\\lib\\site-packages\\sklearn\\base.py\", line 432, in _validate_data\n",
      "    X, y = check_X_y(X, y, **check_params)\n",
      "  File \"C:\\Users\\Brian\\miniconda3\\lib\\site-packages\\sklearn\\utils\\validation.py\", line 73, in inner_f\n",
      "    return f(**kwargs)\n",
      "  File \"C:\\Users\\Brian\\miniconda3\\lib\\site-packages\\sklearn\\utils\\validation.py\", line 803, in check_X_y\n",
      "    estimator=estimator)\n",
      "  File \"C:\\Users\\Brian\\miniconda3\\lib\\site-packages\\sklearn\\utils\\validation.py\", line 73, in inner_f\n",
      "    return f(**kwargs)\n",
      "  File \"C:\\Users\\Brian\\miniconda3\\lib\\site-packages\\sklearn\\utils\\validation.py\", line 599, in check_array\n",
      "    array = np.asarray(array, order=order, dtype=dtype)\n",
      "  File \"C:\\Users\\Brian\\miniconda3\\lib\\site-packages\\numpy\\core\\_asarray.py\", line 83, in asarray\n",
      "    return array(a, dtype, copy=False, order=order)\n",
      "ValueError: could not convert string to float: 'RL'\n",
      "\n",
      "  FitFailedWarning)\n",
      "C:\\Users\\Brian\\miniconda3\\lib\\site-packages\\sklearn\\model_selection\\_validation.py:552: FitFailedWarning: Estimator fit failed. The score on this train-test partition for these parameters will be set to nan. Details: \n",
      "Traceback (most recent call last):\n",
      "  File \"C:\\Users\\Brian\\miniconda3\\lib\\site-packages\\sklearn\\model_selection\\_validation.py\", line 531, in _fit_and_score\n",
      "    estimator.fit(X_train, y_train, **fit_params)\n",
      "  File \"C:\\Users\\Brian\\miniconda3\\lib\\site-packages\\sklearn\\pipeline.py\", line 335, in fit\n",
      "    self._final_estimator.fit(Xt, y, **fit_params_last_step)\n",
      "  File \"C:\\Users\\Brian\\miniconda3\\lib\\site-packages\\sklearn\\linear_model\\_ridge.py\", line 762, in fit\n",
      "    return super().fit(X, y, sample_weight=sample_weight)\n",
      "  File \"C:\\Users\\Brian\\miniconda3\\lib\\site-packages\\sklearn\\linear_model\\_ridge.py\", line 545, in fit\n",
      "    multi_output=True, y_numeric=True)\n",
      "  File \"C:\\Users\\Brian\\miniconda3\\lib\\site-packages\\sklearn\\base.py\", line 432, in _validate_data\n",
      "    X, y = check_X_y(X, y, **check_params)\n",
      "  File \"C:\\Users\\Brian\\miniconda3\\lib\\site-packages\\sklearn\\utils\\validation.py\", line 73, in inner_f\n",
      "    return f(**kwargs)\n",
      "  File \"C:\\Users\\Brian\\miniconda3\\lib\\site-packages\\sklearn\\utils\\validation.py\", line 803, in check_X_y\n",
      "    estimator=estimator)\n",
      "  File \"C:\\Users\\Brian\\miniconda3\\lib\\site-packages\\sklearn\\utils\\validation.py\", line 73, in inner_f\n",
      "    return f(**kwargs)\n",
      "  File \"C:\\Users\\Brian\\miniconda3\\lib\\site-packages\\sklearn\\utils\\validation.py\", line 599, in check_array\n",
      "    array = np.asarray(array, order=order, dtype=dtype)\n",
      "  File \"C:\\Users\\Brian\\miniconda3\\lib\\site-packages\\numpy\\core\\_asarray.py\", line 83, in asarray\n",
      "    return array(a, dtype, copy=False, order=order)\n",
      "ValueError: could not convert string to float: 'RL'\n",
      "\n",
      "  FitFailedWarning)\n",
      "C:\\Users\\Brian\\miniconda3\\lib\\site-packages\\sklearn\\model_selection\\_validation.py:552: FitFailedWarning: Estimator fit failed. The score on this train-test partition for these parameters will be set to nan. Details: \n",
      "Traceback (most recent call last):\n",
      "  File \"C:\\Users\\Brian\\miniconda3\\lib\\site-packages\\sklearn\\model_selection\\_validation.py\", line 531, in _fit_and_score\n",
      "    estimator.fit(X_train, y_train, **fit_params)\n",
      "  File \"C:\\Users\\Brian\\miniconda3\\lib\\site-packages\\sklearn\\pipeline.py\", line 335, in fit\n",
      "    self._final_estimator.fit(Xt, y, **fit_params_last_step)\n",
      "  File \"C:\\Users\\Brian\\miniconda3\\lib\\site-packages\\sklearn\\linear_model\\_ridge.py\", line 762, in fit\n",
      "    return super().fit(X, y, sample_weight=sample_weight)\n",
      "  File \"C:\\Users\\Brian\\miniconda3\\lib\\site-packages\\sklearn\\linear_model\\_ridge.py\", line 545, in fit\n",
      "    multi_output=True, y_numeric=True)\n",
      "  File \"C:\\Users\\Brian\\miniconda3\\lib\\site-packages\\sklearn\\base.py\", line 432, in _validate_data\n",
      "    X, y = check_X_y(X, y, **check_params)\n",
      "  File \"C:\\Users\\Brian\\miniconda3\\lib\\site-packages\\sklearn\\utils\\validation.py\", line 73, in inner_f\n",
      "    return f(**kwargs)\n",
      "  File \"C:\\Users\\Brian\\miniconda3\\lib\\site-packages\\sklearn\\utils\\validation.py\", line 803, in check_X_y\n",
      "    estimator=estimator)\n",
      "  File \"C:\\Users\\Brian\\miniconda3\\lib\\site-packages\\sklearn\\utils\\validation.py\", line 73, in inner_f\n",
      "    return f(**kwargs)\n",
      "  File \"C:\\Users\\Brian\\miniconda3\\lib\\site-packages\\sklearn\\utils\\validation.py\", line 599, in check_array\n",
      "    array = np.asarray(array, order=order, dtype=dtype)\n",
      "  File \"C:\\Users\\Brian\\miniconda3\\lib\\site-packages\\numpy\\core\\_asarray.py\", line 83, in asarray\n",
      "    return array(a, dtype, copy=False, order=order)\n",
      "ValueError: could not convert string to float: 'RL'\n",
      "\n",
      "  FitFailedWarning)\n",
      "C:\\Users\\Brian\\miniconda3\\lib\\site-packages\\sklearn\\model_selection\\_validation.py:552: FitFailedWarning: Estimator fit failed. The score on this train-test partition for these parameters will be set to nan. Details: \n",
      "Traceback (most recent call last):\n",
      "  File \"C:\\Users\\Brian\\miniconda3\\lib\\site-packages\\sklearn\\model_selection\\_validation.py\", line 531, in _fit_and_score\n",
      "    estimator.fit(X_train, y_train, **fit_params)\n",
      "  File \"C:\\Users\\Brian\\miniconda3\\lib\\site-packages\\sklearn\\pipeline.py\", line 335, in fit\n",
      "    self._final_estimator.fit(Xt, y, **fit_params_last_step)\n",
      "  File \"C:\\Users\\Brian\\miniconda3\\lib\\site-packages\\sklearn\\linear_model\\_huber.py\", line 257, in fit\n",
      "    dtype=[np.float64, np.float32])\n",
      "  File \"C:\\Users\\Brian\\miniconda3\\lib\\site-packages\\sklearn\\base.py\", line 432, in _validate_data\n",
      "    X, y = check_X_y(X, y, **check_params)\n",
      "  File \"C:\\Users\\Brian\\miniconda3\\lib\\site-packages\\sklearn\\utils\\validation.py\", line 73, in inner_f\n",
      "    return f(**kwargs)\n",
      "  File \"C:\\Users\\Brian\\miniconda3\\lib\\site-packages\\sklearn\\utils\\validation.py\", line 803, in check_X_y\n",
      "    estimator=estimator)\n",
      "  File \"C:\\Users\\Brian\\miniconda3\\lib\\site-packages\\sklearn\\utils\\validation.py\", line 73, in inner_f\n",
      "    return f(**kwargs)\n",
      "  File \"C:\\Users\\Brian\\miniconda3\\lib\\site-packages\\sklearn\\utils\\validation.py\", line 599, in check_array\n",
      "    array = np.asarray(array, order=order, dtype=dtype)\n",
      "  File \"C:\\Users\\Brian\\miniconda3\\lib\\site-packages\\numpy\\core\\_asarray.py\", line 83, in asarray\n",
      "    return array(a, dtype, copy=False, order=order)\n",
      "ValueError: could not convert string to float: 'RL'\n",
      "\n",
      "  FitFailedWarning)\n",
      "C:\\Users\\Brian\\miniconda3\\lib\\site-packages\\sklearn\\model_selection\\_validation.py:552: FitFailedWarning: Estimator fit failed. The score on this train-test partition for these parameters will be set to nan. Details: \n",
      "Traceback (most recent call last):\n",
      "  File \"C:\\Users\\Brian\\miniconda3\\lib\\site-packages\\sklearn\\model_selection\\_validation.py\", line 531, in _fit_and_score\n",
      "    estimator.fit(X_train, y_train, **fit_params)\n",
      "  File \"C:\\Users\\Brian\\miniconda3\\lib\\site-packages\\sklearn\\pipeline.py\", line 335, in fit\n",
      "    self._final_estimator.fit(Xt, y, **fit_params_last_step)\n",
      "  File \"C:\\Users\\Brian\\miniconda3\\lib\\site-packages\\sklearn\\linear_model\\_huber.py\", line 257, in fit\n",
      "    dtype=[np.float64, np.float32])\n",
      "  File \"C:\\Users\\Brian\\miniconda3\\lib\\site-packages\\sklearn\\base.py\", line 432, in _validate_data\n",
      "    X, y = check_X_y(X, y, **check_params)\n",
      "  File \"C:\\Users\\Brian\\miniconda3\\lib\\site-packages\\sklearn\\utils\\validation.py\", line 73, in inner_f\n",
      "    return f(**kwargs)\n",
      "  File \"C:\\Users\\Brian\\miniconda3\\lib\\site-packages\\sklearn\\utils\\validation.py\", line 803, in check_X_y\n",
      "    estimator=estimator)\n",
      "  File \"C:\\Users\\Brian\\miniconda3\\lib\\site-packages\\sklearn\\utils\\validation.py\", line 73, in inner_f\n",
      "    return f(**kwargs)\n",
      "  File \"C:\\Users\\Brian\\miniconda3\\lib\\site-packages\\sklearn\\utils\\validation.py\", line 599, in check_array\n",
      "    array = np.asarray(array, order=order, dtype=dtype)\n",
      "  File \"C:\\Users\\Brian\\miniconda3\\lib\\site-packages\\numpy\\core\\_asarray.py\", line 83, in asarray\n",
      "    return array(a, dtype, copy=False, order=order)\n",
      "ValueError: could not convert string to float: 'RL'\n",
      "\n",
      "  FitFailedWarning)\n"
     ]
    },
    {
     "name": "stdout",
     "output_type": "stream",
     "text": [
      "Ridge \t 00000nan \t 00000nan \t [nan nan nan nan nan]\n",
      "Huber \t 00000nan \t 00000nan \t [nan nan nan nan nan]\n"
     ]
    },
    {
     "name": "stderr",
     "output_type": "stream",
     "text": [
      "C:\\Users\\Brian\\miniconda3\\lib\\site-packages\\sklearn\\model_selection\\_validation.py:552: FitFailedWarning: Estimator fit failed. The score on this train-test partition for these parameters will be set to nan. Details: \n",
      "Traceback (most recent call last):\n",
      "  File \"C:\\Users\\Brian\\miniconda3\\lib\\site-packages\\sklearn\\model_selection\\_validation.py\", line 531, in _fit_and_score\n",
      "    estimator.fit(X_train, y_train, **fit_params)\n",
      "  File \"C:\\Users\\Brian\\miniconda3\\lib\\site-packages\\sklearn\\pipeline.py\", line 335, in fit\n",
      "    self._final_estimator.fit(Xt, y, **fit_params_last_step)\n",
      "  File \"C:\\Users\\Brian\\miniconda3\\lib\\site-packages\\sklearn\\linear_model\\_huber.py\", line 257, in fit\n",
      "    dtype=[np.float64, np.float32])\n",
      "  File \"C:\\Users\\Brian\\miniconda3\\lib\\site-packages\\sklearn\\base.py\", line 432, in _validate_data\n",
      "    X, y = check_X_y(X, y, **check_params)\n",
      "  File \"C:\\Users\\Brian\\miniconda3\\lib\\site-packages\\sklearn\\utils\\validation.py\", line 73, in inner_f\n",
      "    return f(**kwargs)\n",
      "  File \"C:\\Users\\Brian\\miniconda3\\lib\\site-packages\\sklearn\\utils\\validation.py\", line 803, in check_X_y\n",
      "    estimator=estimator)\n",
      "  File \"C:\\Users\\Brian\\miniconda3\\lib\\site-packages\\sklearn\\utils\\validation.py\", line 73, in inner_f\n",
      "    return f(**kwargs)\n",
      "  File \"C:\\Users\\Brian\\miniconda3\\lib\\site-packages\\sklearn\\utils\\validation.py\", line 599, in check_array\n",
      "    array = np.asarray(array, order=order, dtype=dtype)\n",
      "  File \"C:\\Users\\Brian\\miniconda3\\lib\\site-packages\\numpy\\core\\_asarray.py\", line 83, in asarray\n",
      "    return array(a, dtype, copy=False, order=order)\n",
      "ValueError: could not convert string to float: 'RL'\n",
      "\n",
      "  FitFailedWarning)\n",
      "C:\\Users\\Brian\\miniconda3\\lib\\site-packages\\sklearn\\model_selection\\_validation.py:552: FitFailedWarning: Estimator fit failed. The score on this train-test partition for these parameters will be set to nan. Details: \n",
      "Traceback (most recent call last):\n",
      "  File \"C:\\Users\\Brian\\miniconda3\\lib\\site-packages\\sklearn\\model_selection\\_validation.py\", line 531, in _fit_and_score\n",
      "    estimator.fit(X_train, y_train, **fit_params)\n",
      "  File \"C:\\Users\\Brian\\miniconda3\\lib\\site-packages\\sklearn\\pipeline.py\", line 335, in fit\n",
      "    self._final_estimator.fit(Xt, y, **fit_params_last_step)\n",
      "  File \"C:\\Users\\Brian\\miniconda3\\lib\\site-packages\\sklearn\\linear_model\\_huber.py\", line 257, in fit\n",
      "    dtype=[np.float64, np.float32])\n",
      "  File \"C:\\Users\\Brian\\miniconda3\\lib\\site-packages\\sklearn\\base.py\", line 432, in _validate_data\n",
      "    X, y = check_X_y(X, y, **check_params)\n",
      "  File \"C:\\Users\\Brian\\miniconda3\\lib\\site-packages\\sklearn\\utils\\validation.py\", line 73, in inner_f\n",
      "    return f(**kwargs)\n",
      "  File \"C:\\Users\\Brian\\miniconda3\\lib\\site-packages\\sklearn\\utils\\validation.py\", line 803, in check_X_y\n",
      "    estimator=estimator)\n",
      "  File \"C:\\Users\\Brian\\miniconda3\\lib\\site-packages\\sklearn\\utils\\validation.py\", line 73, in inner_f\n",
      "    return f(**kwargs)\n",
      "  File \"C:\\Users\\Brian\\miniconda3\\lib\\site-packages\\sklearn\\utils\\validation.py\", line 599, in check_array\n",
      "    array = np.asarray(array, order=order, dtype=dtype)\n",
      "  File \"C:\\Users\\Brian\\miniconda3\\lib\\site-packages\\numpy\\core\\_asarray.py\", line 83, in asarray\n",
      "    return array(a, dtype, copy=False, order=order)\n",
      "ValueError: could not convert string to float: 'RL'\n",
      "\n",
      "  FitFailedWarning)\n",
      "C:\\Users\\Brian\\miniconda3\\lib\\site-packages\\sklearn\\model_selection\\_validation.py:552: FitFailedWarning: Estimator fit failed. The score on this train-test partition for these parameters will be set to nan. Details: \n",
      "Traceback (most recent call last):\n",
      "  File \"C:\\Users\\Brian\\miniconda3\\lib\\site-packages\\sklearn\\model_selection\\_validation.py\", line 531, in _fit_and_score\n",
      "    estimator.fit(X_train, y_train, **fit_params)\n",
      "  File \"C:\\Users\\Brian\\miniconda3\\lib\\site-packages\\sklearn\\pipeline.py\", line 335, in fit\n",
      "    self._final_estimator.fit(Xt, y, **fit_params_last_step)\n",
      "  File \"C:\\Users\\Brian\\miniconda3\\lib\\site-packages\\sklearn\\linear_model\\_huber.py\", line 257, in fit\n",
      "    dtype=[np.float64, np.float32])\n",
      "  File \"C:\\Users\\Brian\\miniconda3\\lib\\site-packages\\sklearn\\base.py\", line 432, in _validate_data\n",
      "    X, y = check_X_y(X, y, **check_params)\n",
      "  File \"C:\\Users\\Brian\\miniconda3\\lib\\site-packages\\sklearn\\utils\\validation.py\", line 73, in inner_f\n",
      "    return f(**kwargs)\n",
      "  File \"C:\\Users\\Brian\\miniconda3\\lib\\site-packages\\sklearn\\utils\\validation.py\", line 803, in check_X_y\n",
      "    estimator=estimator)\n",
      "  File \"C:\\Users\\Brian\\miniconda3\\lib\\site-packages\\sklearn\\utils\\validation.py\", line 73, in inner_f\n",
      "    return f(**kwargs)\n",
      "  File \"C:\\Users\\Brian\\miniconda3\\lib\\site-packages\\sklearn\\utils\\validation.py\", line 599, in check_array\n",
      "    array = np.asarray(array, order=order, dtype=dtype)\n",
      "  File \"C:\\Users\\Brian\\miniconda3\\lib\\site-packages\\numpy\\core\\_asarray.py\", line 83, in asarray\n",
      "    return array(a, dtype, copy=False, order=order)\n",
      "ValueError: could not convert string to float: 'RL'\n",
      "\n",
      "  FitFailedWarning)\n"
     ]
    }
   ],
   "source": [
    "print('|Model|','\\t','|RMSE Mean|','\\t','|STD|','\\t','|Scores|')\n",
    "print('--' * 40)\n",
    "for pipe in pipe_list:\n",
    "    scores = cross_val_score(pipe, X_train, y_train, scoring='neg_mean_squared_error', cv=5)\n",
    "    scores = np.sqrt(-scores)\n",
    "    print(pipe.steps[1][0],'\\t',\n",
    "          '{:08.6f}'.format(np.mean(scores)),'\\t',\n",
    "          '{:08.6f}'.format(np.std(scores)),'\\t',\n",
    "#          '{:08.6f}'.format(scores))\n",
    "          scores)"
   ]
  },
  {
   "cell_type": "code",
   "execution_count": 63,
   "metadata": {},
   "outputs": [
    {
     "ename": "SyntaxError",
     "evalue": "invalid syntax (<ipython-input-63-5f9821895e01>, line 1)",
     "output_type": "error",
     "traceback": [
      "\u001b[1;36m  File \u001b[1;32m\"<ipython-input-63-5f9821895e01>\"\u001b[1;36m, line \u001b[1;32m1\u001b[0m\n\u001b[1;33m    predict =\u001b[0m\n\u001b[1;37m              ^\u001b[0m\n\u001b[1;31mSyntaxError\u001b[0m\u001b[1;31m:\u001b[0m invalid syntax\n"
     ]
    }
   ],
   "source": [
    "predict = "
   ]
  }
 ],
 "metadata": {
  "kernelspec": {
   "display_name": "Python:3.7 (ml)",
   "language": "python",
   "name": "ml"
  },
  "language_info": {
   "codemirror_mode": {
    "name": "ipython",
    "version": 3
   },
   "file_extension": ".py",
   "mimetype": "text/x-python",
   "name": "python",
   "nbconvert_exporter": "python",
   "pygments_lexer": "ipython3",
   "version": "3.7.7"
  }
 },
 "nbformat": 4,
 "nbformat_minor": 4
}
