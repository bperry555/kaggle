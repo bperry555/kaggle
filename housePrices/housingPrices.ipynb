{
 "cells": [
  {
   "cell_type": "markdown",
   "metadata": {},
   "source": [
    "# House Prices: Advanced Regression Techniques\n",
    "Competition Description\n",
    "\n",
    "\n",
    "Ask a home buyer to describe their dream house, and they probably won't begin with the height of the basement ceiling or the proximity to an east-west railroad. But this playground competition's dataset proves that much more influences price negotiations than the number of bedrooms or a white-picket fence.\n",
    "\n",
    "With 79 explanatory variables describing (almost) every aspect of residential homes in Ames, Iowa, this competition challenges you to predict the final price of each home.\n",
    "\n",
    "Practice Skills\n",
    "Creative feature engineering \n",
    "Advanced regression techniques like random forest and gradient boosting\n",
    "Acknowledgments\n",
    "The Ames Housing dataset was compiled by Dean De Cock for use in data science education. It's an incredible alternative for data scientists looking for a modernized and expanded version of the often cited Boston Housing dataset.\n",
    "\n",
    "_Source: [Kaggle](https://www.kaggle.com/c/house-prices-advanced-regression-techniques/overview)_"
   ]
  },
  {
   "cell_type": "markdown",
   "metadata": {},
   "source": [
    "## Table of Contents <a name='table'></a>\n",
    "- [Load Data](#Load-Data)\n",
    "- [Find 'Na' Values](#na)\n",
    "  - [Explore 'Na' Values](#cleanNa)\n",
    "  - [Fill 'Na' Values](#fillNa)\n",
    "- [Explore Target Variable (SalePrice)](#target)\n",
    "- [Explore Continuous Values](#continuous)"
   ]
  },
  {
   "cell_type": "markdown",
   "metadata": {},
   "source": [
    "***"
   ]
  },
  {
   "cell_type": "code",
   "execution_count": 1,
   "metadata": {},
   "outputs": [],
   "source": [
    "import pandas as pd\n",
    "import numpy as np\n",
    "from scipy import stats\n",
    "\n",
    "import matplotlib.pyplot as plt\n",
    "import seaborn as sns\n",
    "%matplotlib inline\n",
    "\n",
    "from sklearn.impute import SimpleImputer"
   ]
  },
  {
   "cell_type": "markdown",
   "metadata": {},
   "source": [
    "## Load Data <a name='Load-Data'></a>\n",
    "[Table of Cotents](#table)"
   ]
  },
  {
   "cell_type": "code",
   "execution_count": 2,
   "metadata": {},
   "outputs": [],
   "source": [
    "train_data = pd.read_csv('train.csv')\n",
    "test_data = pd.read_csv('test.csv')"
   ]
  },
  {
   "cell_type": "code",
   "execution_count": 3,
   "metadata": {},
   "outputs": [
    {
     "name": "stdout",
     "output_type": "stream",
     "text": [
      "<class 'pandas.core.frame.DataFrame'>\n",
      "RangeIndex: 1460 entries, 0 to 1459\n",
      "Data columns (total 81 columns):\n",
      " #   Column         Non-Null Count  Dtype  \n",
      "---  ------         --------------  -----  \n",
      " 0   Id             1460 non-null   int64  \n",
      " 1   MSSubClass     1460 non-null   int64  \n",
      " 2   MSZoning       1460 non-null   object \n",
      " 3   LotFrontage    1201 non-null   float64\n",
      " 4   LotArea        1460 non-null   int64  \n",
      " 5   Street         1460 non-null   object \n",
      " 6   Alley          91 non-null     object \n",
      " 7   LotShape       1460 non-null   object \n",
      " 8   LandContour    1460 non-null   object \n",
      " 9   Utilities      1460 non-null   object \n",
      " 10  LotConfig      1460 non-null   object \n",
      " 11  LandSlope      1460 non-null   object \n",
      " 12  Neighborhood   1460 non-null   object \n",
      " 13  Condition1     1460 non-null   object \n",
      " 14  Condition2     1460 non-null   object \n",
      " 15  BldgType       1460 non-null   object \n",
      " 16  HouseStyle     1460 non-null   object \n",
      " 17  OverallQual    1460 non-null   int64  \n",
      " 18  OverallCond    1460 non-null   int64  \n",
      " 19  YearBuilt      1460 non-null   int64  \n",
      " 20  YearRemodAdd   1460 non-null   int64  \n",
      " 21  RoofStyle      1460 non-null   object \n",
      " 22  RoofMatl       1460 non-null   object \n",
      " 23  Exterior1st    1460 non-null   object \n",
      " 24  Exterior2nd    1460 non-null   object \n",
      " 25  MasVnrType     1452 non-null   object \n",
      " 26  MasVnrArea     1452 non-null   float64\n",
      " 27  ExterQual      1460 non-null   object \n",
      " 28  ExterCond      1460 non-null   object \n",
      " 29  Foundation     1460 non-null   object \n",
      " 30  BsmtQual       1423 non-null   object \n",
      " 31  BsmtCond       1423 non-null   object \n",
      " 32  BsmtExposure   1422 non-null   object \n",
      " 33  BsmtFinType1   1423 non-null   object \n",
      " 34  BsmtFinSF1     1460 non-null   int64  \n",
      " 35  BsmtFinType2   1422 non-null   object \n",
      " 36  BsmtFinSF2     1460 non-null   int64  \n",
      " 37  BsmtUnfSF      1460 non-null   int64  \n",
      " 38  TotalBsmtSF    1460 non-null   int64  \n",
      " 39  Heating        1460 non-null   object \n",
      " 40  HeatingQC      1460 non-null   object \n",
      " 41  CentralAir     1460 non-null   object \n",
      " 42  Electrical     1459 non-null   object \n",
      " 43  1stFlrSF       1460 non-null   int64  \n",
      " 44  2ndFlrSF       1460 non-null   int64  \n",
      " 45  LowQualFinSF   1460 non-null   int64  \n",
      " 46  GrLivArea      1460 non-null   int64  \n",
      " 47  BsmtFullBath   1460 non-null   int64  \n",
      " 48  BsmtHalfBath   1460 non-null   int64  \n",
      " 49  FullBath       1460 non-null   int64  \n",
      " 50  HalfBath       1460 non-null   int64  \n",
      " 51  BedroomAbvGr   1460 non-null   int64  \n",
      " 52  KitchenAbvGr   1460 non-null   int64  \n",
      " 53  KitchenQual    1460 non-null   object \n",
      " 54  TotRmsAbvGrd   1460 non-null   int64  \n",
      " 55  Functional     1460 non-null   object \n",
      " 56  Fireplaces     1460 non-null   int64  \n",
      " 57  FireplaceQu    770 non-null    object \n",
      " 58  GarageType     1379 non-null   object \n",
      " 59  GarageYrBlt    1379 non-null   float64\n",
      " 60  GarageFinish   1379 non-null   object \n",
      " 61  GarageCars     1460 non-null   int64  \n",
      " 62  GarageArea     1460 non-null   int64  \n",
      " 63  GarageQual     1379 non-null   object \n",
      " 64  GarageCond     1379 non-null   object \n",
      " 65  PavedDrive     1460 non-null   object \n",
      " 66  WoodDeckSF     1460 non-null   int64  \n",
      " 67  OpenPorchSF    1460 non-null   int64  \n",
      " 68  EnclosedPorch  1460 non-null   int64  \n",
      " 69  3SsnPorch      1460 non-null   int64  \n",
      " 70  ScreenPorch    1460 non-null   int64  \n",
      " 71  PoolArea       1460 non-null   int64  \n",
      " 72  PoolQC         7 non-null      object \n",
      " 73  Fence          281 non-null    object \n",
      " 74  MiscFeature    54 non-null     object \n",
      " 75  MiscVal        1460 non-null   int64  \n",
      " 76  MoSold         1460 non-null   int64  \n",
      " 77  YrSold         1460 non-null   int64  \n",
      " 78  SaleType       1460 non-null   object \n",
      " 79  SaleCondition  1460 non-null   object \n",
      " 80  SalePrice      1460 non-null   int64  \n",
      "dtypes: float64(3), int64(35), object(43)\n",
      "memory usage: 924.0+ KB\n"
     ]
    }
   ],
   "source": [
    "train_data.info()"
   ]
  },
  {
   "cell_type": "code",
   "execution_count": 4,
   "metadata": {},
   "outputs": [],
   "source": [
    "X_train_data = train_data.copy()\n",
    "X_test_data = test_data.copy()"
   ]
  },
  {
   "cell_type": "code",
   "execution_count": 5,
   "metadata": {},
   "outputs": [
    {
     "name": "stdout",
     "output_type": "stream",
     "text": [
      "(1460, 81)\n",
      "(1459, 80)\n"
     ]
    }
   ],
   "source": [
    "print(X_train_data.shape)\n",
    "print(X_test_data.shape)"
   ]
  },
  {
   "cell_type": "code",
   "execution_count": 6,
   "metadata": {},
   "outputs": [
    {
     "data": {
      "text/html": [
       "<div>\n",
       "<style scoped>\n",
       "    .dataframe tbody tr th:only-of-type {\n",
       "        vertical-align: middle;\n",
       "    }\n",
       "\n",
       "    .dataframe tbody tr th {\n",
       "        vertical-align: top;\n",
       "    }\n",
       "\n",
       "    .dataframe thead th {\n",
       "        text-align: right;\n",
       "    }\n",
       "</style>\n",
       "<table border=\"1\" class=\"dataframe\">\n",
       "  <thead>\n",
       "    <tr style=\"text-align: right;\">\n",
       "      <th></th>\n",
       "      <th>Id</th>\n",
       "      <th>MSSubClass</th>\n",
       "      <th>MSZoning</th>\n",
       "      <th>LotFrontage</th>\n",
       "      <th>LotArea</th>\n",
       "      <th>Street</th>\n",
       "      <th>Alley</th>\n",
       "      <th>LotShape</th>\n",
       "      <th>LandContour</th>\n",
       "      <th>Utilities</th>\n",
       "      <th>...</th>\n",
       "      <th>PoolArea</th>\n",
       "      <th>PoolQC</th>\n",
       "      <th>Fence</th>\n",
       "      <th>MiscFeature</th>\n",
       "      <th>MiscVal</th>\n",
       "      <th>MoSold</th>\n",
       "      <th>YrSold</th>\n",
       "      <th>SaleType</th>\n",
       "      <th>SaleCondition</th>\n",
       "      <th>SalePrice</th>\n",
       "    </tr>\n",
       "  </thead>\n",
       "  <tbody>\n",
       "    <tr>\n",
       "      <th>0</th>\n",
       "      <td>1</td>\n",
       "      <td>60</td>\n",
       "      <td>RL</td>\n",
       "      <td>65.0</td>\n",
       "      <td>8450</td>\n",
       "      <td>Pave</td>\n",
       "      <td>NaN</td>\n",
       "      <td>Reg</td>\n",
       "      <td>Lvl</td>\n",
       "      <td>AllPub</td>\n",
       "      <td>...</td>\n",
       "      <td>0</td>\n",
       "      <td>NaN</td>\n",
       "      <td>NaN</td>\n",
       "      <td>NaN</td>\n",
       "      <td>0</td>\n",
       "      <td>2</td>\n",
       "      <td>2008</td>\n",
       "      <td>WD</td>\n",
       "      <td>Normal</td>\n",
       "      <td>208500</td>\n",
       "    </tr>\n",
       "    <tr>\n",
       "      <th>1</th>\n",
       "      <td>2</td>\n",
       "      <td>20</td>\n",
       "      <td>RL</td>\n",
       "      <td>80.0</td>\n",
       "      <td>9600</td>\n",
       "      <td>Pave</td>\n",
       "      <td>NaN</td>\n",
       "      <td>Reg</td>\n",
       "      <td>Lvl</td>\n",
       "      <td>AllPub</td>\n",
       "      <td>...</td>\n",
       "      <td>0</td>\n",
       "      <td>NaN</td>\n",
       "      <td>NaN</td>\n",
       "      <td>NaN</td>\n",
       "      <td>0</td>\n",
       "      <td>5</td>\n",
       "      <td>2007</td>\n",
       "      <td>WD</td>\n",
       "      <td>Normal</td>\n",
       "      <td>181500</td>\n",
       "    </tr>\n",
       "    <tr>\n",
       "      <th>2</th>\n",
       "      <td>3</td>\n",
       "      <td>60</td>\n",
       "      <td>RL</td>\n",
       "      <td>68.0</td>\n",
       "      <td>11250</td>\n",
       "      <td>Pave</td>\n",
       "      <td>NaN</td>\n",
       "      <td>IR1</td>\n",
       "      <td>Lvl</td>\n",
       "      <td>AllPub</td>\n",
       "      <td>...</td>\n",
       "      <td>0</td>\n",
       "      <td>NaN</td>\n",
       "      <td>NaN</td>\n",
       "      <td>NaN</td>\n",
       "      <td>0</td>\n",
       "      <td>9</td>\n",
       "      <td>2008</td>\n",
       "      <td>WD</td>\n",
       "      <td>Normal</td>\n",
       "      <td>223500</td>\n",
       "    </tr>\n",
       "    <tr>\n",
       "      <th>3</th>\n",
       "      <td>4</td>\n",
       "      <td>70</td>\n",
       "      <td>RL</td>\n",
       "      <td>60.0</td>\n",
       "      <td>9550</td>\n",
       "      <td>Pave</td>\n",
       "      <td>NaN</td>\n",
       "      <td>IR1</td>\n",
       "      <td>Lvl</td>\n",
       "      <td>AllPub</td>\n",
       "      <td>...</td>\n",
       "      <td>0</td>\n",
       "      <td>NaN</td>\n",
       "      <td>NaN</td>\n",
       "      <td>NaN</td>\n",
       "      <td>0</td>\n",
       "      <td>2</td>\n",
       "      <td>2006</td>\n",
       "      <td>WD</td>\n",
       "      <td>Abnorml</td>\n",
       "      <td>140000</td>\n",
       "    </tr>\n",
       "    <tr>\n",
       "      <th>4</th>\n",
       "      <td>5</td>\n",
       "      <td>60</td>\n",
       "      <td>RL</td>\n",
       "      <td>84.0</td>\n",
       "      <td>14260</td>\n",
       "      <td>Pave</td>\n",
       "      <td>NaN</td>\n",
       "      <td>IR1</td>\n",
       "      <td>Lvl</td>\n",
       "      <td>AllPub</td>\n",
       "      <td>...</td>\n",
       "      <td>0</td>\n",
       "      <td>NaN</td>\n",
       "      <td>NaN</td>\n",
       "      <td>NaN</td>\n",
       "      <td>0</td>\n",
       "      <td>12</td>\n",
       "      <td>2008</td>\n",
       "      <td>WD</td>\n",
       "      <td>Normal</td>\n",
       "      <td>250000</td>\n",
       "    </tr>\n",
       "  </tbody>\n",
       "</table>\n",
       "<p>5 rows × 81 columns</p>\n",
       "</div>"
      ],
      "text/plain": [
       "   Id  MSSubClass MSZoning  LotFrontage  LotArea Street Alley LotShape  \\\n",
       "0   1          60       RL         65.0     8450   Pave   NaN      Reg   \n",
       "1   2          20       RL         80.0     9600   Pave   NaN      Reg   \n",
       "2   3          60       RL         68.0    11250   Pave   NaN      IR1   \n",
       "3   4          70       RL         60.0     9550   Pave   NaN      IR1   \n",
       "4   5          60       RL         84.0    14260   Pave   NaN      IR1   \n",
       "\n",
       "  LandContour Utilities  ... PoolArea PoolQC Fence MiscFeature MiscVal MoSold  \\\n",
       "0         Lvl    AllPub  ...        0    NaN   NaN         NaN       0      2   \n",
       "1         Lvl    AllPub  ...        0    NaN   NaN         NaN       0      5   \n",
       "2         Lvl    AllPub  ...        0    NaN   NaN         NaN       0      9   \n",
       "3         Lvl    AllPub  ...        0    NaN   NaN         NaN       0      2   \n",
       "4         Lvl    AllPub  ...        0    NaN   NaN         NaN       0     12   \n",
       "\n",
       "  YrSold  SaleType  SaleCondition  SalePrice  \n",
       "0   2008        WD         Normal     208500  \n",
       "1   2007        WD         Normal     181500  \n",
       "2   2008        WD         Normal     223500  \n",
       "3   2006        WD        Abnorml     140000  \n",
       "4   2008        WD         Normal     250000  \n",
       "\n",
       "[5 rows x 81 columns]"
      ]
     },
     "execution_count": 6,
     "metadata": {},
     "output_type": "execute_result"
    }
   ],
   "source": [
    "train_data.head()"
   ]
  },
  {
   "cell_type": "code",
   "execution_count": 7,
   "metadata": {},
   "outputs": [],
   "source": [
    "def get_feature_list(X_train_data=X_train_data):\n",
    "    cont_features = X_train_data.select_dtypes(include=np.number).columns.tolist()\n",
    "    cat_features = X_train_data.select_dtypes(include='object').columns.to_list()\n",
    "    return (cont_features, cat_features)"
   ]
  },
  {
   "cell_type": "code",
   "execution_count": 8,
   "metadata": {},
   "outputs": [],
   "source": [
    "cont_features, cat_features = get_feature_list()"
   ]
  },
  {
   "cell_type": "markdown",
   "metadata": {},
   "source": [
    "## Find and Analyse 'NA' Values <a name ='findNa'></a>\n",
    "[Table of Contents](#table)"
   ]
  },
  {
   "cell_type": "code",
   "execution_count": 9,
   "metadata": {},
   "outputs": [],
   "source": [
    "def find_na(df):\n",
    "    na_find = df.isna().any()\n",
    "    na_values = df.loc[:,na_find]\n",
    "    na_col = na_values.columns.tolist()\n",
    "    heatmap = sns.heatmap(X_train_data.isna(),cmap='binary', cbar=False, yticklabels='none')\n",
    "    return heatmap"
   ]
  },
  {
   "cell_type": "code",
   "execution_count": 10,
   "metadata": {
    "scrolled": true
   },
   "outputs": [
    {
     "data": {
      "text/plain": [
       "<AxesSubplot:>"
      ]
     },
     "execution_count": 10,
     "metadata": {},
     "output_type": "execute_result"
    },
    {
     "data": {
      "image/png": "[encoded data removed]",
      "text/plain": [
       "<Figure size 432x288 with 1 Axes>"
      ]
     },
     "metadata": {
      "needs_background": "light"
     },
     "output_type": "display_data"
    }
   ],
   "source": [
    "find_na(X_train_data)"
   ]
  },
  {
   "cell_type": "code",
   "execution_count": 11,
   "metadata": {},
   "outputs": [
    {
     "data": {
      "text/plain": [
       "<AxesSubplot:>"
      ]
     },
     "execution_count": 11,
     "metadata": {},
     "output_type": "execute_result"
    },
    {
     "data": {
      "image/png": "[encoded data removed]",
      "text/plain": [
       "<Figure size 432x288 with 1 Axes>"
      ]
     },
     "metadata": {
      "needs_background": "light"
     },
     "output_type": "display_data"
    }
   ],
   "source": [
    "find_na(X_test_data)"
   ]
  },
  {
   "cell_type": "code",
   "execution_count": 12,
   "metadata": {},
   "outputs": [
    {
     "name": "stdout",
     "output_type": "stream",
     "text": [
      "PoolQC          1453\n",
      "MiscFeature     1406\n",
      "Alley           1369\n",
      "Fence           1179\n",
      "FireplaceQu      690\n",
      "LotFrontage      259\n",
      "GarageCond        81\n",
      "GarageType        81\n",
      "GarageYrBlt       81\n",
      "GarageFinish      81\n",
      "GarageQual        81\n",
      "BsmtExposure      38\n",
      "BsmtFinType2      38\n",
      "BsmtFinType1      37\n",
      "BsmtCond          37\n",
      "BsmtQual          37\n",
      "MasVnrArea         8\n",
      "MasVnrType         8\n",
      "Electrical         1\n",
      "dtype: int64\n",
      "Columns with NaN values: 19\n"
     ]
    }
   ],
   "source": [
    "na_sum = X_train_data.isna().sum().sort_values(ascending=False)\n",
    "print(na_sum.loc[na_sum > 0])\n",
    "print(f'Columns with NaN values: {na_sum.loc[na_sum > 0].count()}')"
   ]
  },
  {
   "cell_type": "markdown",
   "metadata": {},
   "source": [
    "### Clean 'Na' Values <a name='cleanNa'></a>\n",
    "[Table of Contents](#table)\n",
    "\n",
    "Comparing our missing values to our data dictionary many of these 'na' values are a descriptive feature of a dwelling that does not have said feature. 'PoolQC' houses without a pool don't have a 'Pool Quality' rating.\n",
    "\n",
    "We will fill these 'na' values with 'dna' for does not apply since this is a feature in it of itself.\n",
    "\n",
    "Column Name| 'Na' Description\n",
    "-----------|---------------\n",
    "MiscFeature | None\n",
    "PoolQC | No Pool\n",
    "Alley | No alley access\n",
    "BsmtFinType1 | No Basement\n",
    "Fence | No Fence\n",
    "Fireplace | No Fireplace\n",
    "FireplaceQu | No Fireplace\n",
    "GarageQual | No Garage\n",
    "GarageFinish | No Garage\n",
    "GarageCond | No Garage\n",
    "GarageType | No Garage    \n",
    "BsmtExposure | No Basement\n",
    "BsmtCond | No Basement\n",
    "BsmtQual | No Basement\n",
    "BsmtFinType2 | No Basement\n",
    "BsmtFullBath | None\n",
    "BsmtHalfBath | None\n",
    "GarageArea | No Garage\n",
    "\n",
    "LotFrontage is a measurement.  We will fill this with '0'.\n",
    "All other NA"
   ]
  },
  {
   "cell_type": "code",
   "execution_count": 13,
   "metadata": {},
   "outputs": [],
   "source": [
    "dna = ['PoolQC','Alley','BsmtFinType1','Fence','Fireplaces',\\\n",
    "       'FireplaceQu','GarageQual','GarageFinish','GarageCond',\\\n",
    "       'GarageType','BsmtExposure','BsmtCond','BsmtQual','BsmtFinType2',\\\n",
    "       'BsmtFullBath','BsmtHalfBath','GarageArea','MiscFeature']\n",
    "zero_measure = ['LotFrontage','MasVnrArea','TotalBsmtSF','BsmtFinSF1','BsmtFinSF2']"
   ]
  },
  {
   "cell_type": "code",
   "execution_count": 14,
   "metadata": {},
   "outputs": [],
   "source": [
    "def impute(df, feature1, feature2):\n",
    "    \n",
    "    dna_imputer = SimpleImputer(fill_value='dna',strategy='constant', add_indicator=False)\n",
    "    dna_out = dna_imputer.fit_transform(df[feature1])\n",
    "    df.loc[:,feature1] = dna_out\n",
    "    \n",
    "    zero_imputer = SimpleImputer(fill_value=0,strategy='constant')\n",
    "    zero_out = zero_imputer.fit_transform(df[feature2])\n",
    "    df.loc[:,feature2] = zero_out\n",
    "    \n",
    "    print(df.isna().sum().sort_values(ascending=False))"
   ]
  },
  {
   "cell_type": "code",
   "execution_count": 15,
   "metadata": {},
   "outputs": [
    {
     "name": "stdout",
     "output_type": "stream",
     "text": [
      "GarageYrBlt     81\n",
      "MasVnrType       8\n",
      "Electrical       1\n",
      "SalePrice        0\n",
      "ExterCond        0\n",
      "                ..\n",
      "TotRmsAbvGrd     0\n",
      "Functional       0\n",
      "Fireplaces       0\n",
      "FireplaceQu      0\n",
      "Id               0\n",
      "Length: 81, dtype: int64\n"
     ]
    }
   ],
   "source": [
    "impute(X_train_data, dna, zero_measure)"
   ]
  },
  {
   "cell_type": "markdown",
   "metadata": {},
   "source": [
    "Minimal 'Na' values after imputation.  Dropping remaining rows with 'Na' values."
   ]
  },
  {
   "cell_type": "code",
   "execution_count": 16,
   "metadata": {},
   "outputs": [
    {
     "data": {
      "text/html": [
       "<div>\n",
       "<style scoped>\n",
       "    .dataframe tbody tr th:only-of-type {\n",
       "        vertical-align: middle;\n",
       "    }\n",
       "\n",
       "    .dataframe tbody tr th {\n",
       "        vertical-align: top;\n",
       "    }\n",
       "\n",
       "    .dataframe thead th {\n",
       "        text-align: right;\n",
       "    }\n",
       "</style>\n",
       "<table border=\"1\" class=\"dataframe\">\n",
       "  <thead>\n",
       "    <tr style=\"text-align: right;\">\n",
       "      <th></th>\n",
       "      <th>Id</th>\n",
       "      <th>MSSubClass</th>\n",
       "      <th>MSZoning</th>\n",
       "      <th>LotFrontage</th>\n",
       "      <th>LotArea</th>\n",
       "      <th>Street</th>\n",
       "      <th>Alley</th>\n",
       "      <th>LotShape</th>\n",
       "      <th>LandContour</th>\n",
       "      <th>Utilities</th>\n",
       "      <th>...</th>\n",
       "      <th>PoolArea</th>\n",
       "      <th>PoolQC</th>\n",
       "      <th>Fence</th>\n",
       "      <th>MiscFeature</th>\n",
       "      <th>MiscVal</th>\n",
       "      <th>MoSold</th>\n",
       "      <th>YrSold</th>\n",
       "      <th>SaleType</th>\n",
       "      <th>SaleCondition</th>\n",
       "      <th>SalePrice</th>\n",
       "    </tr>\n",
       "  </thead>\n",
       "  <tbody>\n",
       "    <tr>\n",
       "      <th>0</th>\n",
       "      <td>1</td>\n",
       "      <td>60</td>\n",
       "      <td>RL</td>\n",
       "      <td>65.0</td>\n",
       "      <td>8450</td>\n",
       "      <td>Pave</td>\n",
       "      <td>dna</td>\n",
       "      <td>Reg</td>\n",
       "      <td>Lvl</td>\n",
       "      <td>AllPub</td>\n",
       "      <td>...</td>\n",
       "      <td>0</td>\n",
       "      <td>dna</td>\n",
       "      <td>dna</td>\n",
       "      <td>dna</td>\n",
       "      <td>0</td>\n",
       "      <td>2</td>\n",
       "      <td>2008</td>\n",
       "      <td>WD</td>\n",
       "      <td>Normal</td>\n",
       "      <td>208500</td>\n",
       "    </tr>\n",
       "    <tr>\n",
       "      <th>1</th>\n",
       "      <td>2</td>\n",
       "      <td>20</td>\n",
       "      <td>RL</td>\n",
       "      <td>80.0</td>\n",
       "      <td>9600</td>\n",
       "      <td>Pave</td>\n",
       "      <td>dna</td>\n",
       "      <td>Reg</td>\n",
       "      <td>Lvl</td>\n",
       "      <td>AllPub</td>\n",
       "      <td>...</td>\n",
       "      <td>0</td>\n",
       "      <td>dna</td>\n",
       "      <td>dna</td>\n",
       "      <td>dna</td>\n",
       "      <td>0</td>\n",
       "      <td>5</td>\n",
       "      <td>2007</td>\n",
       "      <td>WD</td>\n",
       "      <td>Normal</td>\n",
       "      <td>181500</td>\n",
       "    </tr>\n",
       "    <tr>\n",
       "      <th>2</th>\n",
       "      <td>3</td>\n",
       "      <td>60</td>\n",
       "      <td>RL</td>\n",
       "      <td>68.0</td>\n",
       "      <td>11250</td>\n",
       "      <td>Pave</td>\n",
       "      <td>dna</td>\n",
       "      <td>IR1</td>\n",
       "      <td>Lvl</td>\n",
       "      <td>AllPub</td>\n",
       "      <td>...</td>\n",
       "      <td>0</td>\n",
       "      <td>dna</td>\n",
       "      <td>dna</td>\n",
       "      <td>dna</td>\n",
       "      <td>0</td>\n",
       "      <td>9</td>\n",
       "      <td>2008</td>\n",
       "      <td>WD</td>\n",
       "      <td>Normal</td>\n",
       "      <td>223500</td>\n",
       "    </tr>\n",
       "    <tr>\n",
       "      <th>3</th>\n",
       "      <td>4</td>\n",
       "      <td>70</td>\n",
       "      <td>RL</td>\n",
       "      <td>60.0</td>\n",
       "      <td>9550</td>\n",
       "      <td>Pave</td>\n",
       "      <td>dna</td>\n",
       "      <td>IR1</td>\n",
       "      <td>Lvl</td>\n",
       "      <td>AllPub</td>\n",
       "      <td>...</td>\n",
       "      <td>0</td>\n",
       "      <td>dna</td>\n",
       "      <td>dna</td>\n",
       "      <td>dna</td>\n",
       "      <td>0</td>\n",
       "      <td>2</td>\n",
       "      <td>2006</td>\n",
       "      <td>WD</td>\n",
       "      <td>Abnorml</td>\n",
       "      <td>140000</td>\n",
       "    </tr>\n",
       "    <tr>\n",
       "      <th>4</th>\n",
       "      <td>5</td>\n",
       "      <td>60</td>\n",
       "      <td>RL</td>\n",
       "      <td>84.0</td>\n",
       "      <td>14260</td>\n",
       "      <td>Pave</td>\n",
       "      <td>dna</td>\n",
       "      <td>IR1</td>\n",
       "      <td>Lvl</td>\n",
       "      <td>AllPub</td>\n",
       "      <td>...</td>\n",
       "      <td>0</td>\n",
       "      <td>dna</td>\n",
       "      <td>dna</td>\n",
       "      <td>dna</td>\n",
       "      <td>0</td>\n",
       "      <td>12</td>\n",
       "      <td>2008</td>\n",
       "      <td>WD</td>\n",
       "      <td>Normal</td>\n",
       "      <td>250000</td>\n",
       "    </tr>\n",
       "  </tbody>\n",
       "</table>\n",
       "<p>5 rows × 81 columns</p>\n",
       "</div>"
      ],
      "text/plain": [
       "   Id  MSSubClass MSZoning  LotFrontage  LotArea Street Alley LotShape  \\\n",
       "0   1          60       RL         65.0     8450   Pave   dna      Reg   \n",
       "1   2          20       RL         80.0     9600   Pave   dna      Reg   \n",
       "2   3          60       RL         68.0    11250   Pave   dna      IR1   \n",
       "3   4          70       RL         60.0     9550   Pave   dna      IR1   \n",
       "4   5          60       RL         84.0    14260   Pave   dna      IR1   \n",
       "\n",
       "  LandContour Utilities  ... PoolArea PoolQC Fence MiscFeature MiscVal MoSold  \\\n",
       "0         Lvl    AllPub  ...        0    dna   dna         dna       0      2   \n",
       "1         Lvl    AllPub  ...        0    dna   dna         dna       0      5   \n",
       "2         Lvl    AllPub  ...        0    dna   dna         dna       0      9   \n",
       "3         Lvl    AllPub  ...        0    dna   dna         dna       0      2   \n",
       "4         Lvl    AllPub  ...        0    dna   dna         dna       0     12   \n",
       "\n",
       "  YrSold  SaleType  SaleCondition  SalePrice  \n",
       "0   2008        WD         Normal     208500  \n",
       "1   2007        WD         Normal     181500  \n",
       "2   2008        WD         Normal     223500  \n",
       "3   2006        WD        Abnorml     140000  \n",
       "4   2008        WD         Normal     250000  \n",
       "\n",
       "[5 rows x 81 columns]"
      ]
     },
     "execution_count": 16,
     "metadata": {},
     "output_type": "execute_result"
    }
   ],
   "source": [
    "X_train_data.head()"
   ]
  },
  {
   "cell_type": "code",
   "execution_count": 17,
   "metadata": {},
   "outputs": [],
   "source": [
    "garage_mode = X_train_data['GarageYrBlt'].mode()[0]\n",
    "X_train_data['GarageYrBlt'].fillna(garage_mode, inplace=True)\n",
    "X_train_data.dropna(inplace=True)\n",
    "X_train_data.dropna(inplace=True)"
   ]
  },
  {
   "cell_type": "code",
   "execution_count": 18,
   "metadata": {},
   "outputs": [
    {
     "data": {
      "text/plain": [
       "False"
      ]
     },
     "execution_count": 18,
     "metadata": {},
     "output_type": "execute_result"
    }
   ],
   "source": [
    "(X_train_data.isna().any or X_test.isna().any) == True"
   ]
  },
  {
   "cell_type": "markdown",
   "metadata": {},
   "source": [
    "---"
   ]
  },
  {
   "cell_type": "markdown",
   "metadata": {},
   "source": [
    "## Target Variable (SalePrice) <a name='target'></a>\n",
    "[Table of Contents](#table)"
   ]
  },
  {
   "cell_type": "code",
   "execution_count": 19,
   "metadata": {},
   "outputs": [],
   "source": [
    "y_train = X_train_data['SalePrice']"
   ]
  },
  {
   "cell_type": "code",
   "execution_count": 20,
   "metadata": {},
   "outputs": [
    {
     "name": "stdout",
     "output_type": "stream",
     "text": [
      "Original Skew: 1.8831110462405252\n",
      "Transformed Skew: 0.1219499636780384\n"
     ]
    },
    {
     "data": {
      "image/png": "[encoded data removed]",
      "text/plain": [
       "<Figure size 1152x576 with 4 Axes>"
      ]
     },
     "metadata": {
      "needs_background": "light"
     },
     "output_type": "display_data"
    }
   ],
   "source": [
    "plt.figure(figsize=(16,8))\n",
    "\n",
    "plt.subplot(2,2,1)\n",
    "stats.probplot(y_train, dist='norm', fit=True, plot=plt.gca())\n",
    "plt.subplot(2,2,2)\n",
    "sns.distplot(y_train)\n",
    "\n",
    "y_log1p = np.log1p(y_train)\n",
    "plt.subplot(2,2,3)\n",
    "\n",
    "stats.probplot(y_log1p, dist='norm', fit=True, plot=plt.gca())\n",
    "plt.subplot(2,2,4)\n",
    "sns.distplot(y_log1p)\n",
    "print(f'Original Skew: {y_train.skew()}')\n",
    "print(f'Transformed Skew: {y_log1p.skew()}')"
   ]
  },
  {
   "cell_type": "markdown",
   "metadata": {},
   "source": [
    "---"
   ]
  },
  {
   "cell_type": "markdown",
   "metadata": {},
   "source": [
    "## Continuous Features <a name='continuous'></a>\n",
    "[Table of Contents](#table)"
   ]
  },
  {
   "cell_type": "code",
   "execution_count": 21,
   "metadata": {},
   "outputs": [],
   "source": [
    "corr = X_train_data.corr(method='pearson')"
   ]
  },
  {
   "cell_type": "code",
   "execution_count": 22,
   "metadata": {},
   "outputs": [
    {
     "data": {
      "text/plain": [
       "<AxesSubplot:>"
      ]
     },
     "execution_count": 22,
     "metadata": {},
     "output_type": "execute_result"
    },
    {
     "data": {
      "image/png": "[encoded data removed]",
      "text/plain": [
       "<Figure size 1152x864 with 2 Axes>"
      ]
     },
     "metadata": {
      "needs_background": "light"
     },
     "output_type": "display_data"
    }
   ],
   "source": [
    "plt.figure(figsize=(16,12))\n",
    "sns.heatmap(corr, cmap='coolwarm')"
   ]
  },
  {
   "cell_type": "code",
   "execution_count": 23,
   "metadata": {},
   "outputs": [],
   "source": [
    "corr_values = X_train_data.loc[:,cont_features].corrwith(X_train_data.SalePrice) \\\n",
    ".sort_values(ascending=False)"
   ]
  },
  {
   "cell_type": "code",
   "execution_count": 24,
   "metadata": {},
   "outputs": [
    {
     "data": {
      "text/plain": [
       "<AxesSubplot:>"
      ]
     },
     "execution_count": 24,
     "metadata": {},
     "output_type": "execute_result"
    },
    {
     "data": {
      "image/png": "[encoded data removed]",
      "text/plain": [
       "<Figure size 288x820.8 with 1 Axes>"
      ]
     },
     "metadata": {
      "needs_background": "light"
     },
     "output_type": "display_data"
    }
   ],
   "source": [
    "plt.figure(figsize=(4, len(cont_features) * .30))\n",
    "plt.gca(facecolor='silver')\n",
    "sns.barplot(x=corr_values,y=corr_values.index, orient='h', palette='RdBu')"
   ]
  },
  {
   "cell_type": "code",
   "execution_count": 25,
   "metadata": {},
   "outputs": [],
   "source": [
    "ordinal_features = []\n",
    "\n",
    "def sort(column, sort):\n",
    "    \n",
    "    if sort == 'ordinal':\n",
    "        ordinal_features.append(column)\n",
    "        print(f'{column} Has been added to the ordinal feature list.')\n",
    "\n",
    "    elif sort == 'one_hot':\n",
    "        one_hot_features.append(column)\n",
    "        print(f'{column} Has been added to the one_hot feature list.')\n",
    "         \n",
    "    else:\n",
    "        return 'Unkown sort value'\n",
    "    \n",
    "    return"
   ]
  },
  {
   "cell_type": "code",
   "execution_count": 64,
   "metadata": {},
   "outputs": [],
   "source": [
    "def outlier_finder(column, k=1.5, df=X_train_data):\n",
    "    q1, q3 = percentile(df[column], 25), percentile(df[column], 75)\n",
    "    IQR = q3 - q1\n",
    "    outliers = (df[(df[column] > q3 + k * IQR)]).index\n",
    "   \n",
    "    return len(outliers)"
   ]
  },
  {
   "cell_type": "code",
   "execution_count": 65,
   "metadata": {},
   "outputs": [],
   "source": [
    "def scribe_stats(column, df=X_train_data):\n",
    "    \n",
    "    fig = plt.figure(figsize=(16,4), tight_layout=True)\n",
    "    \n",
    "    fig.subplots(1,3)\n",
    "    \n",
    "    fig.suptitle(f'Feature Label: {str(column)}', size=20)\n",
    "    \n",
    "    plt.subplot(1,3,1)\n",
    "    sns.distplot(df[column])\n",
    "    \n",
    "    plt.subplot(1,3,2)\n",
    "    sns.boxplot(data=df[column])\n",
    "\n",
    "    plt.subplot(1,3,3)\n",
    "    sns.scatterplot(x=df[column],y=df.SalePrice)\n",
    "    \n",
    "    plt.show()\n",
    "    \n",
    "    outlier_count = outlier_finder(column)\n",
    "    \n",
    "    print(f'Skew: {df[column].skew()},\\nKurtosis: {df[column].kurtosis()},\\n\\n\\\n",
    "Outlier Count: {outlier_count}\\n\\n{df[column].describe()}')\n",
    "    return"
   ]
  },
  {
   "cell_type": "code",
   "execution_count": 66,
   "metadata": {},
   "outputs": [
    {
     "ename": "AttributeError",
     "evalue": "'DataFrame' object has no attribute 'SalePrice'",
     "output_type": "error",
     "traceback": [
      "\u001b[1;31m---------------------------------------------------------------------------\u001b[0m",
      "\u001b[1;31mAttributeError\u001b[0m                            Traceback (most recent call last)",
      "\u001b[1;32m<ipython-input-66-21672f8e9e0d>\u001b[0m in \u001b[0;36m<module>\u001b[1;34m\u001b[0m\n\u001b[0;32m      1\u001b[0m \u001b[1;32mfor\u001b[0m \u001b[0m_\u001b[0m \u001b[1;32min\u001b[0m \u001b[0mcont_features\u001b[0m\u001b[1;33m:\u001b[0m\u001b[1;33m\u001b[0m\u001b[1;33m\u001b[0m\u001b[0m\n\u001b[1;32m----> 2\u001b[1;33m     \u001b[0mscribe_stats\u001b[0m\u001b[1;33m(\u001b[0m\u001b[0m_\u001b[0m\u001b[1;33m)\u001b[0m\u001b[1;33m\u001b[0m\u001b[1;33m\u001b[0m\u001b[0m\n\u001b[0m",
      "\u001b[1;32m<ipython-input-65-fd53e1043643>\u001b[0m in \u001b[0;36mscribe_stats\u001b[1;34m(column, df)\u001b[0m\n\u001b[0;32m     14\u001b[0m \u001b[1;33m\u001b[0m\u001b[0m\n\u001b[0;32m     15\u001b[0m     \u001b[0mplt\u001b[0m\u001b[1;33m.\u001b[0m\u001b[0msubplot\u001b[0m\u001b[1;33m(\u001b[0m\u001b[1;36m1\u001b[0m\u001b[1;33m,\u001b[0m\u001b[1;36m3\u001b[0m\u001b[1;33m,\u001b[0m\u001b[1;36m3\u001b[0m\u001b[1;33m)\u001b[0m\u001b[1;33m\u001b[0m\u001b[1;33m\u001b[0m\u001b[0m\n\u001b[1;32m---> 16\u001b[1;33m     \u001b[0msns\u001b[0m\u001b[1;33m.\u001b[0m\u001b[0mscatterplot\u001b[0m\u001b[1;33m(\u001b[0m\u001b[0mx\u001b[0m\u001b[1;33m=\u001b[0m\u001b[0mdf\u001b[0m\u001b[1;33m[\u001b[0m\u001b[0mcolumn\u001b[0m\u001b[1;33m]\u001b[0m\u001b[1;33m,\u001b[0m\u001b[0my\u001b[0m\u001b[1;33m=\u001b[0m\u001b[0mdf\u001b[0m\u001b[1;33m.\u001b[0m\u001b[0mSalePrice\u001b[0m\u001b[1;33m)\u001b[0m\u001b[1;33m\u001b[0m\u001b[1;33m\u001b[0m\u001b[0m\n\u001b[0m\u001b[0;32m     17\u001b[0m \u001b[1;33m\u001b[0m\u001b[0m\n\u001b[0;32m     18\u001b[0m     \u001b[0mplt\u001b[0m\u001b[1;33m.\u001b[0m\u001b[0mshow\u001b[0m\u001b[1;33m(\u001b[0m\u001b[1;33m)\u001b[0m\u001b[1;33m\u001b[0m\u001b[1;33m\u001b[0m\u001b[0m\n",
      "\u001b[1;32m~\\miniconda3\\lib\\site-packages\\pandas\\core\\generic.py\u001b[0m in \u001b[0;36m__getattr__\u001b[1;34m(self, name)\u001b[0m\n\u001b[0;32m   5272\u001b[0m             \u001b[1;32mif\u001b[0m \u001b[0mself\u001b[0m\u001b[1;33m.\u001b[0m\u001b[0m_info_axis\u001b[0m\u001b[1;33m.\u001b[0m\u001b[0m_can_hold_identifiers_and_holds_name\u001b[0m\u001b[1;33m(\u001b[0m\u001b[0mname\u001b[0m\u001b[1;33m)\u001b[0m\u001b[1;33m:\u001b[0m\u001b[1;33m\u001b[0m\u001b[1;33m\u001b[0m\u001b[0m\n\u001b[0;32m   5273\u001b[0m                 \u001b[1;32mreturn\u001b[0m \u001b[0mself\u001b[0m\u001b[1;33m[\u001b[0m\u001b[0mname\u001b[0m\u001b[1;33m]\u001b[0m\u001b[1;33m\u001b[0m\u001b[1;33m\u001b[0m\u001b[0m\n\u001b[1;32m-> 5274\u001b[1;33m             \u001b[1;32mreturn\u001b[0m \u001b[0mobject\u001b[0m\u001b[1;33m.\u001b[0m\u001b[0m__getattribute__\u001b[0m\u001b[1;33m(\u001b[0m\u001b[0mself\u001b[0m\u001b[1;33m,\u001b[0m \u001b[0mname\u001b[0m\u001b[1;33m)\u001b[0m\u001b[1;33m\u001b[0m\u001b[1;33m\u001b[0m\u001b[0m\n\u001b[0m\u001b[0;32m   5275\u001b[0m \u001b[1;33m\u001b[0m\u001b[0m\n\u001b[0;32m   5276\u001b[0m     \u001b[1;32mdef\u001b[0m \u001b[0m__setattr__\u001b[0m\u001b[1;33m(\u001b[0m\u001b[0mself\u001b[0m\u001b[1;33m,\u001b[0m \u001b[0mname\u001b[0m\u001b[1;33m:\u001b[0m \u001b[0mstr\u001b[0m\u001b[1;33m,\u001b[0m \u001b[0mvalue\u001b[0m\u001b[1;33m)\u001b[0m \u001b[1;33m->\u001b[0m \u001b[1;32mNone\u001b[0m\u001b[1;33m:\u001b[0m\u001b[1;33m\u001b[0m\u001b[1;33m\u001b[0m\u001b[0m\n",
      "\u001b[1;31mAttributeError\u001b[0m: 'DataFrame' object has no attribute 'SalePrice'"
     ]
    },
    {
     "data": {
      "image/png": "[encoded data removed]",
      "text/plain": [
       "<Figure size 1152x288 with 3 Axes>"
      ]
     },
     "metadata": {
      "needs_background": "light"
     },
     "output_type": "display_data"
    }
   ],
   "source": [
    "for _ in cont_features:\n",
    "    scribe_stats(_)"
   ]
  },
  {
   "cell_type": "markdown",
   "metadata": {},
   "source": [
    "## Observations of continuous variables ##\n",
    "- [x] The **Id** and **SalePrice** feature columns need to be dropped.\n",
    "- [x] There are features that has a continuous data type that is actually categorical in nature. I will change this for the following features.\n",
    " - *__'YrSold', 'MoSold', 'MSSubClass', 'OverallCond'__*.\n",
    "- [x] There are features with ordinal values.  I will create a dictionary with their name and order values for later encoding.\n",
    "  - *__'OverallQual', 'OverallCond', 'MoSold', 'YrSold'__*.\n",
    "- [ ] There are quite a few outliers.  Since the data isn't gaussian in nature, I will use the IQR method with a factor value of k=3 to identify extreme or \"far outs\".\n",
    "- [x] There are features that have a really high skew.  I atempt a box-cox transform on all of the continuous features to see if we can get a more gaussian distribution."
   ]
  },
  {
   "cell_type": "code",
   "execution_count": 59,
   "metadata": {},
   "outputs": [],
   "source": [
    "def column_clean(df):\n",
    "    \n",
    "    if ('Id' in df.columns):\n",
    "        df.drop(columns='Id', axis=1, inplace=True)\n",
    "        \n",
    "    if ('SalePrice' in df.columns):\n",
    "        y_train['SalePrice'] = df['SalePrice']\n",
    "        df.drop(columns='SalePrice', axis=1, inplace=True)\n",
    "    \n",
    "#     cat_features.extend(one_hot_features)\n",
    "# #     cat_features.extend(category_features)\n",
    " \n",
    "#     final_cont = list(set(cont_features) - set(ordinal_features) - set(one_hot_features))\n",
    "#     final_cat = list(set(cat_features) - set(ordinal_features))\n",
    "    \n",
    "    return df, y_train"
   ]
  },
  {
   "cell_type": "code",
   "execution_count": 60,
   "metadata": {},
   "outputs": [],
   "source": [
    "X_train_data, y_train = column_clean(X_train_data)"
   ]
  },
  {
   "cell_type": "code",
   "execution_count": 29,
   "metadata": {},
   "outputs": [],
   "source": [
    "one_hot_features = ['YrSold', 'MoSold', 'MSSubClass', 'OverallQual', \\\n",
    "                    'OverallCond', 'GarageYrBlt', 'YearBuilt', 'YearRemodAdd']  \n",
    "\n",
    "for c in one_hot_features:\n",
    "    X_train_data[c] = X_train_data[c].astype('object')"
   ]
  },
  {
   "cell_type": "code",
   "execution_count": 30,
   "metadata": {},
   "outputs": [],
   "source": [
    "cont_features, _ = get_feature_list()"
   ]
  },
  {
   "cell_type": "code",
   "execution_count": 31,
   "metadata": {},
   "outputs": [
    {
     "data": {
      "text/plain": [
       "MiscVal          24.401513\n",
       "PoolArea         14.782069\n",
       "LotArea          12.235742\n",
       "3SsnPorch        10.271742\n",
       "LowQualFinSF      8.982567\n",
       "KitchenAbvGr      4.512817\n",
       "BsmtFinSF2        4.240230\n",
       "ScreenPorch       4.107411\n",
       "BsmtHalfBath      4.088583\n",
       "EnclosedPorch     3.094001\n",
       "MasVnrArea        2.668016\n",
       "OpenPorchSF       2.384908\n",
       "SalePrice         1.883111\n",
       "BsmtFinSF1        1.702582\n",
       "WoodDeckSF        1.541872\n",
       "TotalBsmtSF       1.535566\n",
       "GrLivArea         1.373512\n",
       "1stFlrSF          1.373142\n",
       "BsmtUnfSF         0.919977\n",
       "2ndFlrSF          0.815766\n",
       "HalfBath          0.685128\n",
       "TotRmsAbvGrd      0.680863\n",
       "Fireplaces        0.647744\n",
       "BsmtFullBath      0.604189\n",
       "LotFrontage       0.273099\n",
       "BedroomAbvGr      0.217847\n",
       "GarageArea        0.182585\n",
       "FullBath          0.037756\n",
       "Id                0.003576\n",
       "GarageCars       -0.337419\n",
       "dtype: float64"
      ]
     },
     "execution_count": 31,
     "metadata": {},
     "output_type": "execute_result"
    }
   ],
   "source": [
    "skew_values = X_train_data.loc[:,cont_features].apply(lambda x: x.skew()) \\\n",
    ".sort_values(ascending=False)\n",
    "skew_values"
   ]
  },
  {
   "cell_type": "code",
   "execution_count": 32,
   "metadata": {},
   "outputs": [],
   "source": [
    "high_skew = X_train_data.loc[:,cont_features].skew() > .5"
   ]
  },
  {
   "cell_type": "code",
   "execution_count": 33,
   "metadata": {},
   "outputs": [
    {
     "name": "stderr",
     "output_type": "stream",
     "text": [
      "C:\\Users\\Brian\\miniconda3\\lib\\site-packages\\scipy\\stats\\stats.py:3845: PearsonRConstantInputWarning: An input array is constant; the correlation coefficent is not defined.\n",
      "  warnings.warn(PearsonRConstantInputWarning())\n",
      "C:\\Users\\Brian\\miniconda3\\lib\\site-packages\\scipy\\stats\\stats.py:3875: PearsonRNearConstantInputWarning: An input array is nearly constant; the computed correlation coefficent may be inaccurate.\n",
      "  warnings.warn(PearsonRNearConstantInputWarning())\n"
     ]
    }
   ],
   "source": [
    "from scipy.special import boxcox1p\n",
    "\n",
    "for s in high_skew.index:\n",
    "    X_train_data[s] = boxcox1p(X_train_data[s], stats.boxcox_normmax(X_train_data[s]+1))"
   ]
  },
  {
   "cell_type": "code",
   "execution_count": 34,
   "metadata": {},
   "outputs": [
    {
     "name": "stdout",
     "output_type": "stream",
     "text": [
      "Id: 0\n",
      "LotFrontage: 16\n",
      "LotArea: 37\n",
      "MasVnrArea: 2\n",
      "BsmtFinSF1: 1\n",
      "BsmtFinSF2: 167\n",
      "BsmtUnfSF: 1\n",
      "TotalBsmtSF: 16\n",
      "1stFlrSF: 4\n",
      "2ndFlrSF: 4\n",
      "LowQualFinSF: 26\n",
      "GrLivArea: 6\n",
      "BsmtFullBath: 1\n",
      "BsmtHalfBath: 82\n",
      "FullBath: 0\n",
      "HalfBath: 0\n",
      "BedroomAbvGr: 29\n",
      "KitchenAbvGr: 66\n",
      "TotRmsAbvGrd: 12\n",
      "Fireplaces: 5\n",
      "GarageCars: 5\n",
      "GarageArea: 20\n",
      "WoodDeckSF: 5\n",
      "OpenPorchSF: 3\n",
      "EnclosedPorch: 207\n",
      "3SsnPorch: 24\n",
      "ScreenPorch: 116\n",
      "PoolArea: 7\n",
      "MiscVal: 52\n",
      "SalePrice: 12\n"
     ]
    }
   ],
   "source": [
    "for o in cont_features:\n",
    "    print(f'{o}: {outlier_finder(o)}')"
   ]
  },
  {
   "cell_type": "code",
   "execution_count": 57,
   "metadata": {},
   "outputs": [
    {
     "name": "stdout",
     "output_type": "stream",
     "text": [
      "LotFrontage 96.38090193385139 140\n",
      "LotArea 9.174126494453029 145\n",
      "MasVnrArea 24.89429157925188 145\n",
      "BsmtFinSF1 154.13182531490418 145\n",
      "BsmtFinSF2 7.602014271892231 145\n",
      "BsmtUnfSF 107.64576042152738 144\n",
      "TotalBsmtSF 414.4175128056001 144\n",
      "1stFlrSF 5.621076765793358 143\n",
      "2ndFlrSF 1410.4362196241184 145\n",
      "LowQualFinSF 0.0 26\n",
      "GrLivArea 7.9170282927449644 145\n",
      "BsmtFullBath 0.9921642330228064 16\n",
      "BsmtHalfBath 0.0 82\n",
      "FullBath 1.9885740760061197 32\n",
      "HalfBath 1.0694328076341173 12\n",
      "BedroomAbvGr 3.4521900072813176 29\n",
      "KitchenAbvGr 0.7174052539531056 66\n",
      "TotRmsAbvGrd 2.6770108178603156 77\n",
      "Fireplaces 0.9198155933310497 118\n",
      "GarageCars 3.80108817878939 5\n",
      "GarageArea 784.4960365841249 145\n",
      "WoodDeckSF 57.06192524535142 144\n",
      "OpenPorchSF 17.730733183206848 142\n",
      "EnclosedPorch 12.91556063877658 137\n",
      "3SsnPorch 0.0 24\n",
      "ScreenPorch 0.0 116\n",
      "PoolArea 0.0 7\n",
      "MiscVal 0.0 52\n"
     ]
    }
   ],
   "source": [
    "# def outlier_removal(column, df=X_train_data):\n",
    "for i in cont_features:\n",
    "# X_train_data = train_data.copy()\n",
    "    q90 = X_train_data[i].quantile(.9)\n",
    "    outliers = (X_train_data[(X_train_data[i] > q90)]).any(1)\n",
    "    print(i, q90, len(outliers))"
   ]
  },
  {
   "cell_type": "code",
   "execution_count": 58,
   "metadata": {},
   "outputs": [
    {
     "data": {
      "text/plain": [
       "5       True\n",
       "7       True\n",
       "16      True\n",
       "17      True\n",
       "51      True\n",
       "84      True\n",
       "95      True\n",
       "98      True\n",
       "99      True\n",
       "106     True\n",
       "214     True\n",
       "249     True\n",
       "250     True\n",
       "335     True\n",
       "338     True\n",
       "346     True\n",
       "392     True\n",
       "439     True\n",
       "499     True\n",
       "502     True\n",
       "510     True\n",
       "539     True\n",
       "589     True\n",
       "611     True\n",
       "626     True\n",
       "634     True\n",
       "705     True\n",
       "725     True\n",
       "733     True\n",
       "760     True\n",
       "766     True\n",
       "767     True\n",
       "786     True\n",
       "794     True\n",
       "800     True\n",
       "812     True\n",
       "813     True\n",
       "867     True\n",
       "878     True\n",
       "890     True\n",
       "912     True\n",
       "953     True\n",
       "1061    True\n",
       "1076    True\n",
       "1083    True\n",
       "1171    True\n",
       "1210    True\n",
       "1230    True\n",
       "1252    True\n",
       "1328    True\n",
       "1386    True\n",
       "1457    True\n",
       "dtype: bool"
      ]
     },
     "execution_count": 58,
     "metadata": {},
     "output_type": "execute_result"
    }
   ],
   "source": [
    "outliers"
   ]
  },
  {
   "cell_type": "code",
   "execution_count": 36,
   "metadata": {},
   "outputs": [
    {
     "name": "stdout",
     "output_type": "stream",
     "text": [
      "0.32365910827378025\n"
     ]
    },
    {
     "data": {
      "image/png": "[encoded data removed]",
      "text/plain": [
       "<Figure size 432x288 with 1 Axes>"
      ]
     },
     "metadata": {
      "needs_background": "light"
     },
     "output_type": "display_data"
    }
   ],
   "source": [
    "sns.distplot(X_train_data.LotFrontage)\n",
    "print(X_train_data.LotFrontage.skew())"
   ]
  },
  {
   "cell_type": "code",
   "execution_count": 37,
   "metadata": {},
   "outputs": [
    {
     "name": "stdout",
     "output_type": "stream",
     "text": [
      "Id: 0\n",
      "LotFrontage: 16\n",
      "LotArea: 37\n",
      "MasVnrArea: 2\n",
      "BsmtFinSF1: 1\n",
      "BsmtFinSF2: 167\n",
      "BsmtUnfSF: 1\n",
      "TotalBsmtSF: 16\n",
      "1stFlrSF: 4\n",
      "2ndFlrSF: 4\n",
      "LowQualFinSF: 26\n",
      "GrLivArea: 6\n",
      "BsmtFullBath: 1\n",
      "BsmtHalfBath: 82\n",
      "FullBath: 0\n",
      "HalfBath: 0\n",
      "BedroomAbvGr: 29\n",
      "KitchenAbvGr: 66\n",
      "TotRmsAbvGrd: 12\n",
      "Fireplaces: 5\n",
      "GarageCars: 5\n",
      "GarageArea: 20\n",
      "WoodDeckSF: 5\n",
      "OpenPorchSF: 3\n",
      "EnclosedPorch: 207\n",
      "3SsnPorch: 24\n",
      "ScreenPorch: 116\n",
      "PoolArea: 7\n",
      "MiscVal: 52\n",
      "SalePrice: 12\n"
     ]
    }
   ],
   "source": [
    "for o in cont_features:\n",
    "    print(f'{o}: {outlier_finder(o)}')"
   ]
  },
  {
   "cell_type": "markdown",
   "metadata": {},
   "source": [
    "## Catigorical Features <a name='catigorical'></a>\n",
    "[Table of Contents](#table)"
   ]
  },
  {
   "cell_type": "markdown",
   "metadata": {},
   "source": [
    "---"
   ]
  },
  {
   "cell_type": "code",
   "execution_count": 39,
   "metadata": {},
   "outputs": [],
   "source": [
    "cont_f, cat_f = column_clean(X_train_data)"
   ]
  },
  {
   "cell_type": "code",
   "execution_count": 40,
   "metadata": {},
   "outputs": [],
   "source": [
    " ordinal_dict = {'OverallQual':[ 1,  2,  3,  4,  5,  6,  7,  8,  9, 10],\n",
    "                 'OverallCond':[1, 2, 3, 4, 5, 6, 7, 8, 9],\n",
    "                 'MoSold':[ 1,  2,  3,  4,  5,  6,  7,  8,  9, 10, 11, 12],\n",
    "                 'YrSold':[2006, 2007, 2008, 2009, 2010],\n",
    "                 'BsmtQual':['dna', 'Po', 'Fa', 'TA', 'Gd', 'Ex'],\n",
    "                 'BsmtCond':['dna', 'Po', 'Fa', 'TA', 'Gd', 'Ex'],\n",
    "                 'BsmtFinType1':['dna','Unf','LwQ','Rec','BLQ', 'ALQ', 'GLQ'],\n",
    "                 'BsmtFinType2':['dna','Unf','LwQ','Rec','BLQ', 'ALQ', 'GLQ'],\n",
    "                 'HeatingQC':['Po', 'Fa', 'TA', 'Gd', 'Ex'],\n",
    "                 'KitchenQual':['Po', 'Fa', 'TA', 'Gd', 'Ex'],\n",
    "                 'Functional':['Sal', 'Sev', 'Maj2', 'Maj1', 'Mod', 'Min2', 'Min1', 'Typ'],\n",
    "                 'FireplaceQu':['dna', 'Po', 'Fa', 'TA', 'Gd', 'Ex'],\n",
    "                 'GarageQual':['dna', 'Po', 'Fa', 'TA', 'Gd', 'Ex'],\n",
    "                 'GarageCond':['dna', 'Po', 'Fa', 'TA', 'Gd', 'Ex'],\n",
    "                 'PoolQC':['dna','Fa', 'Gd','Ex'],\n",
    "                 'Fence':['dna', 'MnWw', 'GdWo','MnPrv', 'GdPrv']}\n"
   ]
  },
  {
   "cell_type": "code",
   "execution_count": 41,
   "metadata": {},
   "outputs": [],
   "source": [
    "ordinal_list = [value for key,value in ordinal_dict.items()]"
   ]
  },
  {
   "cell_type": "code",
   "execution_count": 42,
   "metadata": {},
   "outputs": [],
   "source": [
    "from sklearn.pipeline import Pipeline\n",
    "from sklearn.preprocessing import StandardScaler, OneHotEncoder, OrdinalEncoder\n",
    "from sklearn.compose import ColumnTransformer\n",
    "from sklearn.linear_model import LinearRegression, Ridge, Lasso, HuberRegressor, BayesianRidge, ElasticNet\n",
    "from sklearn.model_selection import cross_val_score\n",
    "from sklearn.svm import LinearSVR\n",
    "from sklearn.tree import DecisionTreeRegressor\n",
    "from sklearn.ensemble import VotingRegressor, RandomForestRegressor, AdaBoostRegressor, GradientBoostingRegressor\n",
    "from sklearn.metrics import accuracy_score"
   ]
  },
  {
   "cell_type": "markdown",
   "metadata": {},
   "source": [
    "### Pipeline <a name='Pipeline'></a>\n",
    "[Table of Contents](#table)"
   ]
  },
  {
   "cell_type": "code",
   "execution_count": 43,
   "metadata": {},
   "outputs": [],
   "source": [
    "continuous_transform = Pipeline([\n",
    "    ('scaler', StandardScaler()),\n",
    "])"
   ]
  },
  {
   "cell_type": "code",
   "execution_count": 44,
   "metadata": {},
   "outputs": [],
   "source": [
    "categorical_transform = Pipeline([\n",
    "    ('one_hot', OneHotEncoder(handle_unknown='ignore')),\n",
    "])"
   ]
  },
  {
   "cell_type": "code",
   "execution_count": 45,
   "metadata": {},
   "outputs": [],
   "source": [
    "ordinal_transform = Pipeline([\n",
    "    ('ordinal', OrdinalEncoder()),\n",
    "])"
   ]
  },
  {
   "cell_type": "code",
   "execution_count": 46,
   "metadata": {},
   "outputs": [],
   "source": [
    "preprocessor = ColumnTransformer([\n",
    "    ('cont', StandardScaler(), cont_f),\n",
    "    ('ordinal', OrdinalEncoder(categories=ordinal_list),ordinal_features),\n",
    "    ('cat', OneHotEncoder(handle_unknown='ignore'), cat_f),\n",
    "])"
   ]
  },
  {
   "cell_type": "code",
   "execution_count": 47,
   "metadata": {},
   "outputs": [],
   "source": [
    "linear_pipe = Pipeline([\n",
    "    ('preprocessor', preprocessor),\n",
    "    ('Linear', LinearRegression()),\n",
    "])"
   ]
  },
  {
   "cell_type": "code",
   "execution_count": 48,
   "metadata": {},
   "outputs": [],
   "source": [
    "ridge_pipe = Pipeline([\n",
    "    ('preprocessor', preprocessor),\n",
    "    ('Ridge', Ridge(random_state=24)),\n",
    "])"
   ]
  },
  {
   "cell_type": "code",
   "execution_count": 49,
   "metadata": {},
   "outputs": [],
   "source": [
    "huber_pipe = Pipeline([\n",
    "    ('preprocessor', preprocessor),\n",
    "    ('Huber', HuberRegressor(max_iter=2000)),\n",
    "])"
   ]
  },
  {
   "cell_type": "code",
   "execution_count": 50,
   "metadata": {},
   "outputs": [],
   "source": [
    "lasso_pipe = Pipeline([\n",
    "    ('preprocessor', preprocessor),\n",
    "    ('Lasso', Lasso(random_state=24, fit_intercept=True)),\n",
    "])"
   ]
  },
  {
   "cell_type": "code",
   "execution_count": 51,
   "metadata": {},
   "outputs": [],
   "source": [
    "elastic_pipe = Pipeline([\n",
    "    ('preprocessor', preprocessor),\n",
    "    ('ElasticNet', ElasticNet(random_state=24))\n",
    "])"
   ]
  },
  {
   "cell_type": "code",
   "execution_count": 52,
   "metadata": {},
   "outputs": [],
   "source": [
    "svm_pipe = Pipeline([\n",
    "    ('preprocessor', preprocessor),\n",
    "    ('SVM', LinearSVR(epsilon=1.5))\n",
    "])"
   ]
  },
  {
   "cell_type": "code",
   "execution_count": 53,
   "metadata": {},
   "outputs": [],
   "source": [
    "tree_pipe = Pipeline([\n",
    "    ('preprocessor', preprocessor),\n",
    "    ('Tree', RandomForestRegressor(n_estimators=500, max_leaf_nodes=16,n_jobs=-1))\n",
    "])"
   ]
  },
  {
   "cell_type": "code",
   "execution_count": 54,
   "metadata": {},
   "outputs": [],
   "source": [
    "pipe_list = [linear_pipe, ridge_pipe, huber_pipe, lasso_pipe, elastic_pipe, svm_pipe, tree_pipe]"
   ]
  },
  {
   "cell_type": "code",
   "execution_count": 55,
   "metadata": {},
   "outputs": [],
   "source": [
    "def display_scores():\n",
    "    \n",
    "    rmse_dict = dict(Model=[],Mean=[],STD=[],Scores=[])\n",
    "\n",
    "    for pipe in pipe_list:\n",
    "        scores = cross_val_score(pipe, X_train_data, log1p, scoring='neg_mean_squared_error', cv=5)\n",
    "        rmse_pipe = np.sqrt(-scores)\n",
    "        \n",
    "        rmse_dict['Model'].append(pipe.steps[1][0])\n",
    "        rmse_dict['Mean'].append(rmse_pipe.mean())\n",
    "        rmse_dict['STD'].append(rmse_pipe.std())\n",
    "        rmse_dict['Scores'].append(rmse_pipe)\n",
    "        \n",
    "    return pd.DataFrame(rmse_dict)"
   ]
  },
  {
   "cell_type": "code",
   "execution_count": 56,
   "metadata": {},
   "outputs": [
    {
     "ename": "NameError",
     "evalue": "name 'log1p' is not defined",
     "output_type": "error",
     "traceback": [
      "\u001b[1;31m---------------------------------------------------------------------------\u001b[0m",
      "\u001b[1;31mNameError\u001b[0m                                 Traceback (most recent call last)",
      "\u001b[1;32m<ipython-input-56-cbe9795e575e>\u001b[0m in \u001b[0;36m<module>\u001b[1;34m\u001b[0m\n\u001b[1;32m----> 1\u001b[1;33m \u001b[0mdisplay_scores\u001b[0m\u001b[1;33m(\u001b[0m\u001b[1;33m)\u001b[0m\u001b[1;33m\u001b[0m\u001b[1;33m\u001b[0m\u001b[0m\n\u001b[0m",
      "\u001b[1;32m<ipython-input-55-b3a32046017b>\u001b[0m in \u001b[0;36mdisplay_scores\u001b[1;34m()\u001b[0m\n\u001b[0;32m      4\u001b[0m \u001b[1;33m\u001b[0m\u001b[0m\n\u001b[0;32m      5\u001b[0m     \u001b[1;32mfor\u001b[0m \u001b[0mpipe\u001b[0m \u001b[1;32min\u001b[0m \u001b[0mpipe_list\u001b[0m\u001b[1;33m:\u001b[0m\u001b[1;33m\u001b[0m\u001b[1;33m\u001b[0m\u001b[0m\n\u001b[1;32m----> 6\u001b[1;33m         \u001b[0mscores\u001b[0m \u001b[1;33m=\u001b[0m \u001b[0mcross_val_score\u001b[0m\u001b[1;33m(\u001b[0m\u001b[0mpipe\u001b[0m\u001b[1;33m,\u001b[0m \u001b[0mX_train_data\u001b[0m\u001b[1;33m,\u001b[0m \u001b[0mlog1p\u001b[0m\u001b[1;33m,\u001b[0m \u001b[0mscoring\u001b[0m\u001b[1;33m=\u001b[0m\u001b[1;34m'neg_mean_squared_error'\u001b[0m\u001b[1;33m,\u001b[0m \u001b[0mcv\u001b[0m\u001b[1;33m=\u001b[0m\u001b[1;36m5\u001b[0m\u001b[1;33m)\u001b[0m\u001b[1;33m\u001b[0m\u001b[1;33m\u001b[0m\u001b[0m\n\u001b[0m\u001b[0;32m      7\u001b[0m         \u001b[0mrmse_pipe\u001b[0m \u001b[1;33m=\u001b[0m \u001b[0mnp\u001b[0m\u001b[1;33m.\u001b[0m\u001b[0msqrt\u001b[0m\u001b[1;33m(\u001b[0m\u001b[1;33m-\u001b[0m\u001b[0mscores\u001b[0m\u001b[1;33m)\u001b[0m\u001b[1;33m\u001b[0m\u001b[1;33m\u001b[0m\u001b[0m\n\u001b[0;32m      8\u001b[0m \u001b[1;33m\u001b[0m\u001b[0m\n",
      "\u001b[1;31mNameError\u001b[0m: name 'log1p' is not defined"
     ]
    }
   ],
   "source": [
    "display_scores()"
   ]
  },
  {
   "cell_type": "code",
   "execution_count": null,
   "metadata": {},
   "outputs": [],
   "source": [
    "vote_pipe = VotingRegressor([\n",
    "    ('linear', linear_pipe), ('tree', tree_pipe), ('svc', svm_pipe)],\n",
    "    n_jobs=-1)"
   ]
  },
  {
   "cell_type": "code",
   "execution_count": null,
   "metadata": {},
   "outputs": [],
   "source": [
    "vote = Pipeline([\n",
    "    ('preprocessor', preprocessor),\n",
    "    ('vote',vote_pipe)\n",
    "])"
   ]
  },
  {
   "cell_type": "code",
   "execution_count": null,
   "metadata": {},
   "outputs": [],
   "source": [
    "scores = cross_val_score(vote_pipe, X_train_data, y_train, scoring='neg_mean_squared_error', cv=5)\n",
    "rmse_pipe = np.sqrt(-scores)\n",
    "print(f'{pipe.steps[1][0]}')\n",
    "print(f'{rmse_pipe.mean()}')\n",
    "print(f'{rmse_pipe.std()}')\n",
    "print(f'{rmse_pipe}')"
   ]
  },
  {
   "cell_type": "code",
   "execution_count": null,
   "metadata": {},
   "outputs": [],
   "source": [
    "ada_pipe = Pipeline([\n",
    "    ('preprocessor', preprocessor),\n",
    "    ('AdaBoost', DecisionTreeRegressor(random_state=24)),\n",
    "])"
   ]
  },
  {
   "cell_type": "code",
   "execution_count": null,
   "metadata": {},
   "outputs": [],
   "source": [
    "scores = cross_val_score(ada_pipe, X_train_data, y_train, scoring='neg_mean_squared_error', cv=5)\n",
    "rmse_pipe = np.sqrt(-scores)\n",
    "print(f'{rmse_pipe.mean()}')\n",
    "print(f'{rmse_pipe.std()}')\n",
    "print(f'{rmse_pipe}')"
   ]
  },
  {
   "cell_type": "code",
   "execution_count": null,
   "metadata": {},
   "outputs": [],
   "source": []
  }
 ],
 "metadata": {
  "kernelspec": {
   "display_name": "Python:3.7 (ml)",
   "language": "python",
   "name": "ml"
  },
  "language_info": {
   "codemirror_mode": {
    "name": "ipython",
    "version": 3
   },
   "file_extension": ".py",
   "mimetype": "text/x-python",
   "name": "python",
   "nbconvert_exporter": "python",
   "pygments_lexer": "ipython3",
   "version": "3.7.7"
  }
 },
 "nbformat": 4,
 "nbformat_minor": 4
}
