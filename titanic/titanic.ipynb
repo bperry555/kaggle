{
 "cells": [
  {
   "cell_type": "markdown",
   "metadata": {},
   "source": [
    "# Titanic Dataset\n",
    "\n",
    "The **question** we are trying to answer for this dataset is to predict who aboard the Titanic was destined to perish by the set of features from this dataset.  \n",
    "\n",
    "This is a **Binary Classification** problem that we will be using Python along with the packages: Numpy, Scipy, Scikit-Learn.  As well as some visualization focused packages: Matplotlib and Seaborn.\n",
    "Personably I am using this modest dataset to practice my Pandas, Scikit-Learn, and Markdown.\n",
    "> The Challenge\n",
    "The sinking of the Titanic is one of the most infamous shipwrecks in history.\n",
    "\n",
    ">On April 15, 1912, during her maiden voyage, the widely considered “unsinkable” RMS Titanic sank after colliding with an iceberg. Unfortunately, there weren’t enough lifeboats for everyone onboard, resulting in the death of 1502 out of 2224 passengers and crew.\n",
    "\n",
    ">While there was some element of luck involved in surviving, it seems some groups of people were more likely to survive than others.\n",
    "\n",
    ">In this challenge, we ask you to build a predictive model that answers the question: “what sorts of people were more likely to survive?” using passenger data (ie name, age, gender, socio-economic class, etc).\n",
    "\n",
    "Source: [*Kaggle*](https://www.kaggle.com/c/titanic/overview)"
   ]
  },
  {
   "cell_type": "markdown",
   "metadata": {},
   "source": [
    "## Table of Contents <div id='toc'/>\n",
    "- [Data Dictionary](#Dictionary)\n",
    "- [Load Data](#Load-Data)\n",
    "- EDA\n",
    "  - [Dataset Overview](#Dataset-Overview)\n",
    "    - [PassengerId](#PassengerId)\n",
    "    - [Survived](#Survived)\n",
    "    - [Pclass](#Pclass)\n",
    "    - [Name](#Name)\n",
    "    - [Sex](#Sex)\n",
    "    - [Age](#Age)\n",
    "    - [SibSp](#SibSp)\n",
    "    - [Parch](#Parch)\n",
    "    - [Ticket](#Ticket)\n",
    "    - [Fare](#Fare)\n",
    "    - [Cabin](#Cabin)\n",
    "    - [Embarked](#Embarked)\n",
    "- [Preprocessing](#Preprocessing)\n",
    "- [Model](#Model)\n",
    "- [Scikit-Learn Pipeline](#Pipeline)\n",
    "- [Submit to Kaggle](#Submit-to-Kaggle)  \n",
    " "
   ]
  },
  {
   "cell_type": "markdown",
   "metadata": {},
   "source": [
    "### Data Dictionary <a name=\"Dictionary\"></a>\n",
    "\n",
    "Variable | Definition | Key\n",
    ":---:|:---:|:---:\n",
    "survival | Survival | 0 = No, 1 = Yes\n",
    "pclass | Ticket class | 1 = 1st, 2 = 2nd, 3 = 3rd\n",
    "sex | Sex\t\n",
    "Age | Age |in years\t\n",
    "sibsp | # of siblings / spouses aboard the Titanic\t\n",
    "parch | # of parents / children aboard the Titanic\t\n",
    "ticket | Ticket number\t\n",
    "fare | Passenger fare\t\n",
    "cabin | Cabin number\t\n",
    "embarked | Port of Embarkation | C = Cherbourg, Q = Queenstown, S = Southampton"
   ]
  },
  {
   "cell_type": "markdown",
   "metadata": {},
   "source": [
    "#### Variable Notes\n",
    "**pclass**: A proxy for socio-economic status (SES)\n",
    "1st = Upper\n",
    "2nd = Middle\n",
    "3rd = Lower\n",
    "\n",
    "**age**: Age is fractional if less than 1. If the age is estimated, is it in the form of xx.5\n",
    "\n",
    "**sibsp**: The dataset defines family relations in this way...\n",
    "**Sibling** = brother, sister, stepbrother, stepsister\n",
    "**Spouse** = husband, wife (mistresses and fiancés were ignored)\n",
    "\n",
    "**parch**: The dataset defines family relations in this way...\n",
    "**Parent** = mother, father\n",
    "**Child** = daughter, son, stepdaughter, stepson\n",
    "Some children travelled only with a nanny, therefore parch=0 for them."
   ]
  },
  {
   "cell_type": "markdown",
   "metadata": {},
   "source": [
    "Back to [Table Of Contents](#toc)\n",
    "***"
   ]
  },
  {
   "cell_type": "code",
   "execution_count": null,
   "metadata": {},
   "outputs": [],
   "source": [
    "# Data Wrangling/Munging libraries\n",
    "import pandas as pd\n",
    "import numpy as np\n",
    "import scipy as sp\n",
    "\n",
    "# Visualization Libraries\n",
    "import seaborn as sns\n",
    "import matplotlib.pyplot as plt\n",
    "%matplotlib inline"
   ]
  },
  {
   "cell_type": "markdown",
   "metadata": {},
   "source": [
    "## Loading Data\n",
    "\n",
    "No need to gather data. Just need to load it."
   ]
  },
  {
   "cell_type": "code",
   "execution_count": null,
   "metadata": {},
   "outputs": [],
   "source": [
    "train_data = pd.read_csv('train.csv')\n",
    "test_data = pd.read_csv('test.csv')"
   ]
  },
  {
   "cell_type": "code",
   "execution_count": null,
   "metadata": {},
   "outputs": [],
   "source": [
    "train_data.info()"
   ]
  },
  {
   "cell_type": "code",
   "execution_count": null,
   "metadata": {
    "scrolled": true
   },
   "outputs": [],
   "source": [
    "train_data.head()"
   ]
  },
  {
   "cell_type": "code",
   "execution_count": null,
   "metadata": {},
   "outputs": [],
   "source": [
    "train_data.describe()"
   ]
  },
  {
   "cell_type": "markdown",
   "metadata": {},
   "source": [
    "Back to [Table Of Contents](#toc)\n",
    "***"
   ]
  },
  {
   "cell_type": "code",
   "execution_count": null,
   "metadata": {},
   "outputs": [],
   "source": [
    "def small_multiples_survived(df, base_cat, survived='Survived'):\n",
    "    \n",
    "    color = ['#377eb8','#ff7f00','#4daf4a','#4daf4a','#984ea3']\n",
    "    \n",
    "    plt.figure(figsize=(16,4))\n",
    "\n",
    "    plt.subplot(1,3,1)\n",
    "    plt.title(f'Density of {df[base_cat].name} values')\n",
    "    df[base_cat].hist()\n",
    "    \n",
    "    plt.subplot(1,3,2)\n",
    "    plt.title(\"'NO' Survive\")\n",
    "    df[base_cat][df[survived] == 0].value_counts(normalize=True).plot(kind='bar', color=color) \n",
    "    \n",
    "    plt.subplot(1,3,3)\n",
    "    plt.title(\"'YES' Survive\")\n",
    "    df[base_cat][df[survived] == 1].value_counts(normalize=True).plot(kind='bar', color=color) \n",
    "    \n",
    "# plt.figure(figsize=(16,4))\n",
    "# d =train_data.groupby('Survived')['Sex'].value_counts(normalize=True)\n",
    "# plt.subplot(1,2,1)\n",
    "# d[0].plot(kind='bar')\n",
    "# plt.subplot(1,2,2)\n",
    "# d[1].plot(kind='bar')"
   ]
  },
  {
   "cell_type": "markdown",
   "metadata": {},
   "source": [
    "## PassengerID\n",
    "\n",
    "This column is used as an index column.  We will not use this column in our model."
   ]
  },
  {
   "cell_type": "markdown",
   "metadata": {},
   "source": [
    "Back to [Table Of Contents](#toc)\n",
    "***"
   ]
  },
  {
   "cell_type": "markdown",
   "metadata": {},
   "source": [
    "## Survived ##\n",
    "\n",
    "These are the **target**(y) values\n",
    "- Values are nominal/binary.\n",
    "- 0 = 'NO' Survive\n",
    "- 1 = 'YES' Survive\n",
    "\n",
    "We will assign these values to the y variable once we decide how we are going to handle our null values.\n",
    "```python\n",
    "y_train = train_data['Survived']\n",
    "```\n",
    "First is a **Scatter Plot Matrix** of our continuous values. _There are so few continuous labels I included 'Pclass' since it is Ordinal in nature_.\n",
    "\n",
    "Second is a **Correlation Heatmap** of our entire dataset. "
   ]
  },
  {
   "cell_type": "code",
   "execution_count": null,
   "metadata": {},
   "outputs": [],
   "source": [
    "cont = ['Age', 'Pclass', 'Fare']"
   ]
  },
  {
   "cell_type": "code",
   "execution_count": null,
   "metadata": {},
   "outputs": [],
   "source": [
    "sns.pairplot(train_data[cont],diag_kind='kde')"
   ]
  },
  {
   "cell_type": "code",
   "execution_count": null,
   "metadata": {},
   "outputs": [],
   "source": [
    "corr = train_data.corr()\n",
    "colormap = sns.diverging_palette(220, 10, as_cmap = True)\n",
    "sns.heatmap(corr, annot=True, cmap=colormap)"
   ]
  },
  {
   "cell_type": "code",
   "execution_count": null,
   "metadata": {},
   "outputs": [],
   "source": [
    "print(train_data.Survived.value_counts())\n",
    "\n",
    "plt.title('Distribution of Survived Values')\n",
    "train_data.Survived.hist()"
   ]
  },
  {
   "cell_type": "markdown",
   "metadata": {},
   "source": [
    "Back to [Table Of Contents](#toc)\n",
    "***"
   ]
  },
  {
   "cell_type": "markdown",
   "metadata": {},
   "source": [
    "## Pclass ##\n",
    "\n",
    "**Ticket Class**\n",
    "\n",
    "- Values are catigorical, ordinal in type:\n",
    "  - 1 = First Class Ticket\n",
    "  - 2 = Second Class Ticket\n",
    "  - 3 = Third Class Ticket\n",
    " \n",
    "- No NaN\n",
    "\n",
    "Need to **OneHotEncode** values."
   ]
  },
  {
   "cell_type": "code",
   "execution_count": null,
   "metadata": {},
   "outputs": [],
   "source": [
    "small_multiples_survived(train_data, 'Pclass')\n",
    "print(train_data.Pclass.value_counts())"
   ]
  },
  {
   "cell_type": "code",
   "execution_count": null,
   "metadata": {},
   "outputs": [],
   "source": [
    "for x in [1,2,3]:\n",
    "    train_data.Survived[train_data.Pclass == x].plot(kind='kde')\n",
    "plt.legend(('1st','2nd','3rd'))"
   ]
  },
  {
   "cell_type": "markdown",
   "metadata": {},
   "source": [
    "Back to [Table Of Contents](#toc)\n",
    "***"
   ]
  },
  {
   "cell_type": "markdown",
   "metadata": {},
   "source": [
    "## Name ##\n",
    "\n",
    "**Name of the passenger.**\n",
    "- Values are strings.\n",
    "- No NaN\n",
    "\n",
    "This Column doesn't have much use in it's current form. Might come back to it to perform some feature engineering.\n",
    "\n",
    "*__Dropping__ this column for now.*"
   ]
  },
  {
   "cell_type": "code",
   "execution_count": null,
   "metadata": {},
   "outputs": [],
   "source": [
    "train_data.Name.head()"
   ]
  },
  {
   "cell_type": "code",
   "execution_count": null,
   "metadata": {},
   "outputs": [],
   "source": [
    "train_data.Name.describe()"
   ]
  },
  {
   "cell_type": "markdown",
   "metadata": {},
   "source": [
    "Back to [Table Of Contents](#toc)\n",
    "***"
   ]
  },
  {
   "cell_type": "markdown",
   "metadata": {},
   "source": [
    "## Sex ##\n",
    "\n",
    "**Gender of passenger**\n",
    "- Values are categorical, strings\n",
    "  - Male\n",
    "  - Female\n",
    "- No NaN\n",
    "\n",
    "Need to __OneHotEncode__ values."
   ]
  },
  {
   "cell_type": "code",
   "execution_count": null,
   "metadata": {},
   "outputs": [],
   "source": [
    "print(train_data.Sex.value_counts())\n",
    "small_multiples_survived(train_data, 'Sex')"
   ]
  },
  {
   "cell_type": "code",
   "execution_count": null,
   "metadata": {},
   "outputs": [],
   "source": [
    "train_data.Survived.index"
   ]
  },
  {
   "cell_type": "markdown",
   "metadata": {},
   "source": [
    "Back to [Table Of Contents](#toc)\n",
    "***"
   ]
  },
  {
   "cell_type": "markdown",
   "metadata": {},
   "source": [
    "## Age ##\n",
    "\n",
    "**Age of the Passenger.**\n",
    "- Values are Numeric, as float64.\n",
    "- Nan = 177 missing entries that we need to figure out how we want to handle.\n",
    "  1. Drop Entire Column.\n",
    "  2. Drop the rows with the NaN.\n",
    "  3. Fill the NaN with a value(most likely the mean)."
   ]
  },
  {
   "cell_type": "code",
   "execution_count": null,
   "metadata": {},
   "outputs": [],
   "source": [
    "train_data.Age.isna().sum()"
   ]
  },
  {
   "cell_type": "code",
   "execution_count": 18,
   "metadata": {},
   "outputs": [
    {
     "data": {
      "text/plain": [
       "count    714.000000\n",
       "mean      29.699118\n",
       "std       14.526497\n",
       "min        0.420000\n",
       "25%       20.125000\n",
       "50%       28.000000\n",
       "75%       38.000000\n",
       "max       80.000000\n",
       "Name: Age, dtype: float64"
      ]
     },
     "execution_count": 18,
     "metadata": {},
     "output_type": "execute_result"
    }
   ],
   "source": [
    "train_data.Age.describe()"
   ]
  },
  {
   "cell_type": "code",
   "execution_count": null,
   "metadata": {},
   "outputs": [],
   "source": [
    "plt.figure(figsize=(10,4))\n",
    "plt.subplot(1,2,1)\n",
    "train_data.Age.hist()\n",
    "plt.subplot(1,2,2)\n",
    "train_data.Fare.plot(kind='box')"
   ]
  },
  {
   "cell_type": "code",
   "execution_count": null,
   "metadata": {},
   "outputs": [],
   "source": [
    "train_data.Age.describe()"
   ]
  },
  {
   "cell_type": "code",
   "execution_count": null,
   "metadata": {},
   "outputs": [],
   "source": [
    "print(f'Median: {train_data.Age.median()}, Mode:{train_data.Age.mode()}')"
   ]
  },
  {
   "cell_type": "markdown",
   "metadata": {},
   "source": [
    "__Is there a relationship between Age and Ticket Class?__"
   ]
  },
  {
   "cell_type": "code",
   "execution_count": null,
   "metadata": {},
   "outputs": [],
   "source": [
    "for x in [1,2,3]:\n",
    "    train_data.Age[train_data.Pclass == x].plot(kind='kde')\n",
    "    \n",
    "plt.legend(('1st', '2nd', '3rd'))"
   ]
  },
  {
   "cell_type": "markdown",
   "metadata": {},
   "source": [
    "**What kind of ticket did the passengers with missing ages have?**"
   ]
  },
  {
   "cell_type": "code",
   "execution_count": null,
   "metadata": {},
   "outputs": [],
   "source": [
    "missing_ages = train_data.loc[train_data.Age.isna()]\n",
    "missing_ages.Pclass.value_counts().plot(kind='bar')"
   ]
  },
  {
   "cell_type": "markdown",
   "metadata": {},
   "source": [
    "**Is there a relationshipt between Age and Fare paid?**"
   ]
  },
  {
   "cell_type": "code",
   "execution_count": null,
   "metadata": {},
   "outputs": [],
   "source": [
    "plt.scatter(train_data.Age, train_data.Fare, alpha=.2)"
   ]
  },
  {
   "cell_type": "markdown",
   "metadata": {},
   "source": [
    "Back to [Table Of Contents](#toc)\n",
    "***"
   ]
  },
  {
   "cell_type": "markdown",
   "metadata": {},
   "source": [
    "## SibSp ## \n",
    "\n",
    "**Number of siblings / spouses aboard the Titanic**\n",
    "- Values are Catigorical.\n",
    "  - 0-5 & 8"
   ]
  },
  {
   "cell_type": "code",
   "execution_count": null,
   "metadata": {},
   "outputs": [],
   "source": [
    "print(train_data.SibSp.value_counts())\n",
    "small_multiples_survived(train_data, 'SibSp')"
   ]
  },
  {
   "cell_type": "markdown",
   "metadata": {},
   "source": [
    "Back to [Table Of Contents](#toc)\n",
    "***"
   ]
  },
  {
   "cell_type": "markdown",
   "metadata": {},
   "source": [
    "## Parch ## \n",
    "\n",
    "**#of parents / children aboard the Titanic**\n",
    "- Values are Nominal as float\n",
    "  - 0-6\n",
    "- No NaN"
   ]
  },
  {
   "cell_type": "code",
   "execution_count": null,
   "metadata": {},
   "outputs": [],
   "source": [
    "train_data.Parch.value_counts()"
   ]
  },
  {
   "cell_type": "code",
   "execution_count": null,
   "metadata": {},
   "outputs": [],
   "source": [
    "print(train_data.Parch.value_counts())\n",
    "small_multiples_survived(train_data, 'Parch')"
   ]
  },
  {
   "cell_type": "markdown",
   "metadata": {},
   "source": [
    "Back to [Table Of Contents](#toc)\n",
    "***"
   ]
  },
  {
   "cell_type": "markdown",
   "metadata": {},
   "source": [
    "## Ticket ##\n",
    "Back to [TableOfContents](#toc)\n",
    "\n",
    "**Ticket number**\n",
    "- Values seem to be random with no way to group them.\n",
    "\n",
    "_**Drop these values**_"
   ]
  },
  {
   "cell_type": "code",
   "execution_count": null,
   "metadata": {},
   "outputs": [],
   "source": [
    "train_data.Ticket.describe()"
   ]
  },
  {
   "cell_type": "markdown",
   "metadata": {},
   "source": [
    "Back to [Table Of Contents](#toc)\n",
    "***"
   ]
  },
  {
   "cell_type": "markdown",
   "metadata": {},
   "source": [
    "## Fare ##\n",
    "\n",
    "**Passenger fare**\n",
    "- Values are Continuous as float\n",
    "- Outliers"
   ]
  },
  {
   "cell_type": "code",
   "execution_count": null,
   "metadata": {},
   "outputs": [],
   "source": [
    "train_data.Fare.describe()"
   ]
  },
  {
   "cell_type": "code",
   "execution_count": null,
   "metadata": {},
   "outputs": [],
   "source": [
    "train_data.Fare.value_counts()"
   ]
  },
  {
   "cell_type": "code",
   "execution_count": null,
   "metadata": {},
   "outputs": [],
   "source": [
    "plt.figure(figsize=(10,4))\n",
    "plt.subplot(1,2,1)\n",
    "train_data.Fare.plot(kind='box')\n",
    "plt.subplot(1,2,2)\n",
    "train_data.Fare.hist()"
   ]
  },
  {
   "cell_type": "markdown",
   "metadata": {},
   "source": [
    "Back to [Table Of Contents](#toc)\n",
    "***"
   ]
  },
  {
   "cell_type": "markdown",
   "metadata": {},
   "source": [
    "## Cabin ##\n",
    "\n",
    "**Cabin Number**\n",
    "- Values are Catigorical\n",
    "- NaN = 687 that need to be handled.\n",
    "  1. Drop the entire column.\n",
    "  2. Drop the rows with NaN.\n",
    "  3. fill the NaN with a value.\n",
    "- Could try and Feature Engineer values that more useful.\n",
    "  \n",
    "_**Dropping entire column for now**_"
   ]
  },
  {
   "cell_type": "code",
   "execution_count": null,
   "metadata": {},
   "outputs": [],
   "source": [
    "train_data.Cabin.isna().sum()"
   ]
  },
  {
   "cell_type": "code",
   "execution_count": null,
   "metadata": {},
   "outputs": [],
   "source": [
    "train_data.Cabin.describe()"
   ]
  },
  {
   "cell_type": "code",
   "execution_count": null,
   "metadata": {},
   "outputs": [],
   "source": [
    "train_data.Cabin.value_counts()"
   ]
  },
  {
   "cell_type": "markdown",
   "metadata": {},
   "source": [
    "Back to [Table Of Contents](#toc)\n",
    "***"
   ]
  },
  {
   "cell_type": "markdown",
   "metadata": {},
   "source": [
    "## Embarked ##\n",
    "**Port of Embarkation**\n",
    "- Values are Nominal as strings\n",
    "  - C = Cherbourg\n",
    "  - Q = Queenstown\n",
    "  - S = Southampton\n",
    "- NaN = 2 nulls that need to be handled."
   ]
  },
  {
   "cell_type": "code",
   "execution_count": null,
   "metadata": {},
   "outputs": [],
   "source": [
    "train_data.Embarked.describe()"
   ]
  },
  {
   "cell_type": "code",
   "execution_count": null,
   "metadata": {},
   "outputs": [],
   "source": [
    "train_data.Embarked.isna().sum()"
   ]
  },
  {
   "cell_type": "code",
   "execution_count": null,
   "metadata": {},
   "outputs": [],
   "source": [
    "print(train_data.Embarked.value_counts())\n",
    "small_multiples_survived(train_data, 'Embarked')"
   ]
  },
  {
   "cell_type": "markdown",
   "metadata": {},
   "source": [
    "Back to [Table Of Contents](#toc)\n",
    "***"
   ]
  },
  {
   "cell_type": "markdown",
   "metadata": {},
   "source": [
    "# Preprocessing <a name='Preprocessing'></a>"
   ]
  },
  {
   "cell_type": "code",
   "execution_count": 58,
   "metadata": {},
   "outputs": [],
   "source": [
    "def normalize(df, continuous):\n",
    "    for feature in continuous:\n",
    "        min_value = df[feature].min()\n",
    "        max_value = df[feature].max()\n",
    "#         df[feature] = (df[feature] - df.mean()) / (df[feature].std())\n",
    "        df[feature] = (df[feature] - min_value) / (max_value - min_value)\n",
    "    return df"
   ]
  },
  {
   "cell_type": "code",
   "execution_count": 59,
   "metadata": {},
   "outputs": [
    {
     "name": "stderr",
     "output_type": "stream",
     "text": [
      "C:\\Users\\Brian\\miniconda3\\lib\\site-packages\\pandas\\core\\generic.py:6245: SettingWithCopyWarning: \n",
      "A value is trying to be set on a copy of a slice from a DataFrame\n",
      "\n",
      "See the caveats in the documentation: https://pandas.pydata.org/pandas-docs/stable/user_guide/indexing.html#returning-a-view-versus-a-copy\n",
      "  self._update_inplace(new_data)\n",
      "C:\\Users\\Brian\\miniconda3\\lib\\site-packages\\ipykernel_launcher.py:6: SettingWithCopyWarning: \n",
      "A value is trying to be set on a copy of a slice from a DataFrame.\n",
      "Try using .loc[row_indexer,col_indexer] = value instead\n",
      "\n",
      "See the caveats in the documentation: https://pandas.pydata.org/pandas-docs/stable/user_guide/indexing.html#returning-a-view-versus-a-copy\n",
      "  \n"
     ]
    }
   ],
   "source": [
    "# New DF to keep original values intact.\n",
    "categories = ['Pclass','Sex','Age','SibSp','Parch','Fare','Embarked']\n",
    "X_train = train_data[categories]\n",
    "y_train = train_data['Survived']\n",
    "X_test = test_data[categories]\n",
    "\n",
    "# Fill the 3 NaN Embarked entries with the mode.\n",
    "X_train.Embarked.fillna(train_data.Embarked.mode()[0], inplace=True)\n",
    "X_test.Embarked.fillna(train_data.Embarked.mode()[0], inplace=True)\n",
    "X_test.Fare.fillna(train_data.Fare.mean(), inplace=True)\n",
    "\n",
    "# fill the 177 NaN Age entries with the median.\n",
    "median = train_data.Age.median()\n",
    "X_train.Age.fillna(median, inplace=True)\n",
    "X_test.Age.fillna(median, inplace=True)\n",
    "\n",
    "# Apply a Min/Max normilization to our continuous values\n",
    "continuous = ['Age','Fare']\n",
    "X_train = normalize(X_train, continuous)\n",
    "\n",
    "# pd.to_numeric(X_train, downcast='float')\n",
    "# Use get_dummies as our category encoder.\n",
    "categories = ['Pclass','Sex','SibSp','Parch','Embarked']\n",
    "X_train = pd.get_dummies(X_train, columns=categories, prefix=categories)\n",
    "X_test = pd.get_dummies(X_test, columns=categories, prefix=categories)  \n",
    "X_test.drop(columns='Parch_9', axis=1, inplace=True)"
   ]
  },
  {
   "cell_type": "markdown",
   "metadata": {},
   "source": [
    "Back to [Table Of Contents](#toc)\n",
    "***"
   ]
  },
  {
   "cell_type": "markdown",
   "metadata": {},
   "source": [
    "### Model  <a name=\"Model\"></a>"
   ]
  },
  {
   "cell_type": "code",
   "execution_count": 60,
   "metadata": {},
   "outputs": [],
   "source": [
    "from sklearn.compose import ColumnTransformer\n",
    "from sklearn.pipeline import Pipeline\n",
    "from sklearn.impute import SimpleImputer\n",
    "from sklearn.preprocessing import StandardScaler, OneHotEncoder\n",
    "from sklearn.linear_model import LogisticRegression\n",
    "from sklearn.model_selection import cross_val_score, GridSearchCV\n",
    "from sklearn.ensemble import RandomForestClassifier, AdaBoostClassifier"
   ]
  },
  {
   "cell_type": "code",
   "execution_count": 61,
   "metadata": {},
   "outputs": [
    {
     "name": "stdout",
     "output_type": "stream",
     "text": [
      "0.8428731762065096\n"
     ]
    }
   ],
   "source": [
    "# RandomForestClassifier\n",
    "clf = RandomForestClassifier(n_estimators=100, max_depth=5, random_state=1)\n",
    "clf.fit(X_train,y_train)\n",
    "print(clf.score(X_train, y_train))\n",
    "predictions = clf.predict(X_test)\n",
    "output0 = pd.DataFrame({'PassengerId': test_data.PassengerId, 'Survived': predictions})"
   ]
  },
  {
   "cell_type": "code",
   "execution_count": 62,
   "metadata": {
    "scrolled": true
   },
   "outputs": [
    {
     "name": "stdout",
     "output_type": "stream",
     "text": [
      "0.8529741863075196\n"
     ]
    }
   ],
   "source": [
    "# AdaBoostClassifier\n",
    "clf = AdaBoostClassifier(n_estimators=200, random_state=1)\n",
    "clf.fit(X_train,y_train)\n",
    "print(clf.score(X_train, y_train))\n",
    "predictions = clf.predict(X_test)\n",
    "scores = cross_val_score(clf, X_train, y_train, cv=5)\n",
    "scores.mean()\n",
    "output1 = pd.DataFrame({'PassengerId': test_data.PassengerId, 'Survived': predictions})"
   ]
  },
  {
   "cell_type": "markdown",
   "metadata": {},
   "source": [
    "Back to [Table Of Contents](#toc)\n",
    "***"
   ]
  },
  {
   "cell_type": "markdown",
   "metadata": {},
   "source": [
    "## Scikit-Learn Pipeline  <a name='Pipeline'></a>\n",
    "Will use this once we are happy with data **Preprocessing** steps and **Feature Extraction**.\n",
    "\n",
    "Makes it easier to do model and hyper paramater training."
   ]
  },
  {
   "cell_type": "code",
   "execution_count": null,
   "metadata": {},
   "outputs": [],
   "source": [
    "'''\n",
    "y_train = train_data.Survived\n",
    "columns = ['Age','Fare','Embarked','Sex','Pclass']\n",
    "X_train = train_data[columns]\n",
    "X_test = test_data[columns]\n",
    "'''"
   ]
  },
  {
   "cell_type": "code",
   "execution_count": null,
   "metadata": {},
   "outputs": [],
   "source": [
    "'''\n",
    "numeric_features = ['Age', 'Fare']\n",
    "numeric_transformer = Pipeline(steps=[\n",
    "    ('imputer', SimpleImputer(strategy='median')),\n",
    "    ('scaler', StandardScaler())\n",
    "])\n",
    "\n",
    "categorical_features = ['Embarked', 'Sex', 'Pclass']\n",
    "categorical_transformer = Pipeline(steps=[\n",
    "    ('imputer', SimpleImputer(strategy='constant', fill_value='missing')),\n",
    "    ('onehot', OneHotEncoder(handle_unknown='ignore'))\n",
    "])\n",
    "\n",
    "preprocessor = ColumnTransformer(\n",
    "    transformers=[\n",
    "        ('num', numeric_transformer, numeric_features),\n",
    "        ('cat', categorical_transformer, categorical_features)\n",
    "])\n",
    "'''"
   ]
  },
  {
   "cell_type": "code",
   "execution_count": null,
   "metadata": {},
   "outputs": [],
   "source": [
    "'''\n",
    "model_pipeline = Pipeline(steps=[('preprocessor', preprocessor),\n",
    "                                ('classifier', LogisticRegression())])\n",
    "fit_model_pipeline = model_pipeline.fit(X_train,y_train)\n",
    "print('model score: %.3f' % fit_model_pipeline.score(X_train,y_train))\n",
    "'''"
   ]
  },
  {
   "cell_type": "code",
   "execution_count": null,
   "metadata": {},
   "outputs": [],
   "source": [
    "'''\n",
    "predict = model_pipeline.predict(X_test)\n",
    "output = pd.DataFrame({'PassengerId': test_data.PassengerId, 'Survived': predict})\n",
    "'''"
   ]
  },
  {
   "cell_type": "markdown",
   "metadata": {},
   "source": [
    "## Submit to kaggle  <a name='Submit-to-Kaggle'></a>"
   ]
  },
  {
   "cell_type": "code",
   "execution_count": null,
   "metadata": {},
   "outputs": [],
   "source": [
    "# output.to_csv('/submissions/AdaBoostClassifier.csv', index=False)"
   ]
  },
  {
   "cell_type": "markdown",
   "metadata": {},
   "source": [
    "Back to [Table Of Contents](#toc)\n",
    "***"
   ]
  }
 ],
 "metadata": {
  "kernelspec": {
   "display_name": "Python:3.7 (ml)",
   "language": "python",
   "name": "ml"
  },
  "language_info": {
   "codemirror_mode": {
    "name": "ipython",
    "version": 3
   },
   "file_extension": ".py",
   "mimetype": "text/x-python",
   "name": "python",
   "nbconvert_exporter": "python",
   "pygments_lexer": "ipython3",
   "version": "3.7.7"
  }
 },
 "nbformat": 4,
 "nbformat_minor": 4
}
